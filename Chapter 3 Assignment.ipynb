{
 "cells": [
  {
   "cell_type": "markdown",
   "metadata": {},
   "source": [
    "# Chapter 3"
   ]
  },
  {
   "cell_type": "markdown",
   "metadata": {},
   "source": [
    "BA3A: Generate the k-mer Composition of a String"
   ]
  },
  {
   "cell_type": "code",
   "execution_count": 6,
   "metadata": {
    "collapsed": false
   },
   "outputs": [
    {
     "name": "stdout",
     "output_type": "stream",
     "text": [
      "AATCC\n",
      "ATCCA\n",
      "CAATC\n",
      "CCAAC\n",
      "TCCAA\n"
     ]
    }
   ],
   "source": [
    "def Composition(k, DNA):\n",
    "    kmer = []\n",
    "    for i in range(len(DNA)-k+1):\n",
    "        kmer.append(DNA[i:i+k])\n",
    "    kmer.sort()\n",
    "    for text in kmer:\n",
    "        print text\n",
    "\n",
    "k = 5\n",
    "DNA = \"CAATCCAAC\"\n",
    "Composition(k, DNA)"
   ]
  },
  {
   "cell_type": "markdown",
   "metadata": {},
   "source": [
    "BA3B: Reconstruct a String from its Genome Path"
   ]
  },
  {
   "cell_type": "code",
   "execution_count": 15,
   "metadata": {
    "collapsed": false
   },
   "outputs": [
    {
     "name": "stdout",
     "output_type": "stream",
     "text": [
      "ACCGAAGCT\n"
     ]
    }
   ],
   "source": [
    "def Reconstruct(Path):\n",
    "    Genome = \"\"\n",
    "    for i in range(len(Path)):\n",
    "        if i == 0:\n",
    "            Genome = Genome + Path[i]\n",
    "        else:\n",
    "            Genome = Genome + Path[i][len(Path[i])-1:len(Path[i])]\n",
    "    print Genome\n",
    "\n",
    "Path = [\"ACCGA\", \"CCGAA\", \"CGAAG\", \"GAAGC\", \"AAGCT\"]\n",
    "Reconstruct(Path)"
   ]
  },
  {
   "cell_type": "markdown",
   "metadata": {},
   "source": [
    "BA3C: Construct the Overlap Graph of a Collection of k-mers"
   ]
  },
  {
   "cell_type": "code",
   "execution_count": 23,
   "metadata": {
    "collapsed": false
   },
   "outputs": [
    {
     "name": "stdout",
     "output_type": "stream",
     "text": [
      "AGGCA->GGCAT\n",
      "CATGC->ATGCG\n",
      "GCATG->CATGC\n",
      "GGCAT->GCATG\n"
     ]
    }
   ],
   "source": [
    "def OverlapGraph(kmers):\n",
    "    kmers.sort()\n",
    "    prefix = []\n",
    "    suffix = []\n",
    "    for kmer in kmers:\n",
    "        prefix.append(kmer[0:len(kmer)-1])\n",
    "        suffix.append(kmer[1:len(kmer)])\n",
    "    for i in range(len(suffix)):\n",
    "        for j in range(len(prefix)):\n",
    "            if suffix[i] == prefix[j]:\n",
    "                print kmers[i]+\"->\"+kmers[j]\n",
    "                \n",
    "    \n",
    "kmers = [\"ATGCG\",\"GCATG\",\"CATGC\",\"AGGCA\",\"GGCAT\"]\n",
    "OverlapGraph(kmers)"
   ]
  },
  {
   "cell_type": "markdown",
   "metadata": {},
   "source": [
    "BA3D: Construct the De Bruijn Graph of a String"
   ]
  },
  {
   "cell_type": "code",
   "execution_count": 44,
   "metadata": {
    "collapsed": false
   },
   "outputs": [
    {
     "name": "stdout",
     "output_type": "stream",
     "text": [
      "AAG-> AGA  \n",
      "AGA-> GAT  \n",
      "ATT-> TTC  \n",
      "CTA-> TAC  \n",
      "CTC-> TCT  \n",
      "GAT-> ATT  \n",
      "TCT-> CTA CTC  \n",
      "TTC-> TCT  \n"
     ]
    }
   ],
   "source": [
    "def Composition(k, DNA):\n",
    "    kmer = []\n",
    "    for i in range(len(DNA)-k+1):\n",
    "        kmer.append(DNA[i:i+k])\n",
    "    kmer.sort()\n",
    "    return kmer\n",
    "\n",
    "def DeBruijn(k, DNA):\n",
    "    composition = Composition(k,DNA)\n",
    "    prefix = []\n",
    "    suffix = []\n",
    "    for kmer in composition:\n",
    "        prefix.append(kmer[0:len(kmer)-1])\n",
    "        suffix.append(kmer[1:len(kmer)])\n",
    "    uniqueprefix = []\n",
    "    uniquesuffix = []\n",
    "    for pre in prefix:\n",
    "        if pre not in uniqueprefix:\n",
    "            uniqueprefix.append(pre)\n",
    "    for suf in suffix:\n",
    "        if suf not in uniquesuffix:\n",
    "            uniquesuffix.append(suf)\n",
    "    debruijn = {}\n",
    "    for node in uniqueprefix:\n",
    "        print node + '->',\n",
    "        count = 0\n",
    "        for connectednode in uniquesuffix:\n",
    "            if node[1:len(node)] == connectednode[0:len(node)-1]:\n",
    "                print connectednode,\n",
    "        print \" \"\n",
    "\n",
    "k = 4\n",
    "DNA = \"AAGATTCTCTAC\"\n",
    "DeBruijn(k, DNA)"
   ]
  }
 ],
 "metadata": {
  "kernelspec": {
   "display_name": "Python 2",
   "language": "python",
   "name": "python2"
  },
  "language_info": {
   "codemirror_mode": {
    "name": "ipython",
    "version": 2
   },
   "file_extension": ".py",
   "mimetype": "text/x-python",
   "name": "python",
   "nbconvert_exporter": "python",
   "pygments_lexer": "ipython2",
   "version": "2.7.12"
  }
 },
 "nbformat": 4,
 "nbformat_minor": 2
}
