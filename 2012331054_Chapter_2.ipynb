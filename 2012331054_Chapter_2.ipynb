{
 "cells": [
  {
   "cell_type": "markdown",
   "metadata": {
    "deletable": true,
    "editable": true
   },
   "source": [
    "# Chapter 2"
   ]
  },
  {
   "cell_type": "markdown",
   "metadata": {
    "deletable": true,
    "editable": true
   },
   "source": [
    "BA2A: Implement MotifEnumeration"
   ]
  },
  {
   "cell_type": "code",
   "execution_count": null,
   "metadata": {
    "collapsed": true,
    "deletable": true,
    "editable": true
   },
   "outputs": [],
   "source": []
  },
  {
   "cell_type": "markdown",
   "metadata": {
    "deletable": true,
    "editable": true
   },
   "source": [
    "BA2B: Find a Median String"
   ]
  },
  {
   "cell_type": "code",
   "execution_count": 15,
   "metadata": {
    "collapsed": false,
    "deletable": true,
    "editable": true
   },
   "outputs": [
    {
     "name": "stdout",
     "output_type": "stream",
     "text": [
      "ACG\n",
      "GAC\n"
     ]
    }
   ],
   "source": [
    "from itertools import product\n",
    "\n",
    "def hammingDistance(seq1,seq2):\n",
    "    cnt = 0\n",
    "    for i in range (len(seq1)):\n",
    "        if seq1[i] != seq2[i]:\n",
    "            cnt = cnt + 1\n",
    "    return cnt\n",
    "\n",
    "def PatternCount(Text, Pattern):\n",
    "    count = 0\n",
    "    length = len(Pattern)\n",
    "    mn = 9999\n",
    "    for i in range (len(Text)-len(Pattern)+1):\n",
    "        str = Text[i:i+length]\n",
    "        if hammingDistance(str,Pattern)<mn:\n",
    "            mn = hammingDistance(str,Pattern)\n",
    "    return mn\n",
    "\n",
    "def MedianString(Pattern, DNA):\n",
    "    kmers = {}\n",
    "    patterns = [''.join(i) for i in product(\"ATGC\", repeat = Pattern)]\n",
    "    for pattern in patterns:\n",
    "        patternSum = 0\n",
    "        for dna in DNA:\n",
    "            patternSum += PatternCount(dna,pattern)\n",
    "        kmers[pattern] = patternSum\n",
    "    k = kmers.values()\n",
    "    result = min(k)\n",
    "    for kmer, val in kmers.iteritems():\n",
    "        if val == result:\n",
    "            print kmer\n",
    "    \n",
    "DNA = [\"AAATTGACGCAT\",\"GACGACCACGTT\",\"CGTCAGCGCCTG\",\"GCTGAGCACCGG\",\"AGTACGGGACAG\"]\n",
    "MedianString(3,DNA)"
   ]
  },
  {
   "cell_type": "markdown",
   "metadata": {
    "deletable": true,
    "editable": true
   },
   "source": [
    "BA2C: Find a Profile-most Probable k-mer in a String"
   ]
  },
  {
   "cell_type": "code",
   "execution_count": 17,
   "metadata": {
    "collapsed": false,
    "deletable": true,
    "editable": true
   },
   "outputs": [
    {
     "name": "stdout",
     "output_type": "stream",
     "text": [
      "CCGAG\n"
     ]
    }
   ],
   "source": [
    "def ProfileMostProbableKmer(DNA, k, profile):\n",
    "    tempMax=-1\n",
    "    num=-1\n",
    "    tempRes=\"\"\n",
    "    finalResult=\"\"\n",
    "    for i in range(len(DNA)-k):\n",
    "        for j in range(k):\n",
    "            c=DNA[i+j]\n",
    "            if c=='A':\n",
    "                tempMax=tempMax+profile[0][j]\n",
    "                tempRes= tempRes+c\n",
    "            elif c=='C':\n",
    "                tempMax=tempMax+profile[1][j]\n",
    "                tempRes=tempRes+c\n",
    "            elif c=='G':\n",
    "                tempMax=tempMax+profile[2][j]\n",
    "                tempRes=tempRes+c\n",
    "            elif c=='T':\n",
    "                tempMax=tempMax+profile[3][j]\n",
    "                tempRes=tempRes+c\n",
    "        if(tempMax>num):\n",
    "            num=tempMax\n",
    "            finalResult=tempRes\n",
    "            tempRes=\"\"\n",
    "            tempMax=-1\n",
    "        else:\n",
    "            tempMax=-1\n",
    "            tempRes=\"\"\n",
    "    print(finalResult)\n",
    "\n",
    "DNA=\"ACCTGTTTATTGCCTAAGTTCCGAACAAACCCAATATAGCCCGAGGGCCT\"\n",
    "k=5\n",
    "profile = [\n",
    "    [0.2, 0.2, 0.3, 0.2, 0.3],\n",
    "    [0.4, 0.3, 0.1, 0.5, 0.1],\n",
    "    [0.3, 0.3, 0.5, 0.2, 0.4],\n",
    "    [0.1, 0.2, 0.1, 0.1, 0.2]\n",
    "]\n",
    "ProfileMostProbableKmer(DNA, k, profile)"
   ]
  },
  {
   "cell_type": "markdown",
   "metadata": {
    "collapsed": true,
    "deletable": true,
    "editable": true
   },
   "source": [
    "BA2D: Implement GreedyMotifSearch"
   ]
  },
  {
   "cell_type": "code",
   "execution_count": 1,
   "metadata": {
    "collapsed": false,
    "deletable": true,
    "editable": true
   },
   "outputs": [
    {
     "name": "stdout",
     "output_type": "stream",
     "text": [
      "CAG\n",
      "CAG\n",
      "CAA\n",
      "CAC\n",
      "CAA\n"
     ]
    }
   ],
   "source": [
    "def Count(Motifs):\n",
    "    count = {}\n",
    "    k = len(Motifs[0])\n",
    "    for symbol in \"ACGT\":\n",
    "        count[symbol] = []\n",
    "        for j in range(k):\n",
    "            count[symbol].append(0) \n",
    "    t = len(Motifs)\n",
    "    for i in range(t):\n",
    "        for j in range(k):\n",
    "            symbol = Motifs[i][j]\n",
    "            count[symbol][j] += 1\n",
    " \n",
    "    return count\n",
    "\n",
    "def Profile(Motifs):\n",
    "    t = len(Motifs)\n",
    "    k = len(Motifs[0])\n",
    "    profile = {}\n",
    "    profile = Count(Motifs)\n",
    "    stringList = profile.values() \n",
    "    for string in stringList:\n",
    "        for i in range(len(string)):\n",
    "            string[i] = string[i] / t\n",
    "    return profile\n",
    "\n",
    "def Consensus(Motifs):\n",
    "    k = len(Motifs[0])\n",
    "    count = Count(Motifs) \n",
    "    consensus = \"\"\n",
    "    for j in range(k):\n",
    "        m = 0\n",
    "        frequentSymbol = \"\"\n",
    "        for symbol in \"ACGT\":\n",
    "            if count[symbol][j] > m:\n",
    "                m = count[symbol][j]\n",
    "                frequentSymbol = symbol\n",
    "        consensus += frequentSymbol\n",
    "    return consensus\n",
    "\n",
    "def Score(Motifs):\n",
    "    t = len(Motifs)\n",
    "    k = len(Motifs[0])\n",
    "    consensus = Consensus(Motifs)\n",
    "    score = 0\n",
    "    for j in range(k):\n",
    "        for i in range(t):\n",
    "            symbol = Motifs[i][j]\n",
    "            if consensus[j] != symbol:\n",
    "                score += 1 \n",
    "    return score\n",
    "\n",
    "def Pr(Text, Profile):\n",
    "    k = len(Text)\n",
    "    pr = 1.0\n",
    "    for j in range(k):\n",
    "        symbol = Text[j]\n",
    "        prList = Profile[symbol]\n",
    "        pr *= prList[j]\n",
    "    return pr\n",
    " \n",
    "def ProfileMostProbablePattern(Text, k, Profile):\n",
    "    l = len(Text)\n",
    "    pr_most = 0.0\n",
    "    mostProbablePattern = Text[0:k]\n",
    "    for j in range(l-k+1):\n",
    "        k_mer = Text[j:j+k]\n",
    "        pr = Pr(k_mer, Profile)\n",
    "        if pr > pr_most:\n",
    "            pr_most = pr\n",
    "            mostProbablePattern = k_mer\n",
    "    return mostProbablePattern    \n",
    "\n",
    "def GreedyMotifSearch(Dna, k, t):\n",
    "    BestMotifs = []\n",
    "    for i in range(0, t):\n",
    "        BestMotifs.append(Dna[i][0:k])\n",
    "    n = len(Dna[0])\n",
    "    for i in range(n-k+1):\n",
    "        Motifs = []\n",
    "        Motifs.append(Dna[0][i:i+k])\n",
    "        for j in range(1, t):\n",
    "            P = Profile(Motifs[0:j])\n",
    "            Motifs.append(ProfileMostProbablePattern(Dna[j], k, P))       \n",
    "        if Score(Motifs) < Score(BestMotifs):\n",
    "            BestMotifs = Motifs\n",
    "    return BestMotifs\n",
    "\n",
    "k = 3\n",
    "t = 5 \n",
    "DNA1 = \"GGCGTTCAGGCA\"\n",
    "DNA2 = \"AAGAATCAGTCA\"\n",
    "DNA3 = \"CAAGGAGTTCGC\"\n",
    "DNA4 = \"CACGTCAATCAC\"\n",
    "DNA5 = \"CAATAATATTCG\"\n",
    "Dna = [ DNA1, DNA2, DNA3, DNA4, DNA5 ]\n",
    "print('\\n'.join(GreedyMotifSearch(Dna,k,t)))"
   ]
  },
  {
   "cell_type": "markdown",
   "metadata": {
    "deletable": true,
    "editable": true
   },
   "source": [
    "BA2E: Implement GreedyMotifSearch with Pseudocounts"
   ]
  },
  {
   "cell_type": "code",
   "execution_count": null,
   "metadata": {
    "collapsed": true,
    "deletable": true,
    "editable": true
   },
   "outputs": [],
   "source": []
  },
  {
   "cell_type": "markdown",
   "metadata": {
    "deletable": true,
    "editable": true
   },
   "source": [
    "BA2F: Implement RandomizedMotifSearch"
   ]
  },
  {
   "cell_type": "code",
   "execution_count": null,
   "metadata": {
    "collapsed": true,
    "deletable": true,
    "editable": true
   },
   "outputs": [],
   "source": []
  },
  {
   "cell_type": "markdown",
   "metadata": {
    "deletable": true,
    "editable": true
   },
   "source": [
    "BA2G: Implement GibbsSampler"
   ]
  },
  {
   "cell_type": "code",
   "execution_count": null,
   "metadata": {
    "collapsed": true,
    "deletable": true,
    "editable": true
   },
   "outputs": [],
   "source": []
  },
  {
   "cell_type": "markdown",
   "metadata": {
    "deletable": true,
    "editable": true
   },
   "source": [
    "BA2H: Implement DistanceBetweenPatternAndStrings"
   ]
  },
  {
   "cell_type": "code",
   "execution_count": 18,
   "metadata": {
    "collapsed": false,
    "deletable": true,
    "editable": true
   },
   "outputs": [
    {
     "name": "stdout",
     "output_type": "stream",
     "text": [
      "5\n"
     ]
    }
   ],
   "source": [
    "def HammingDistance(seq1, seq2):\n",
    "    difference = 0\n",
    "    for ch1, ch2 in zip(seq1, seq2):\n",
    "        if ch1 != ch2:\n",
    "            difference += 1\n",
    "    return difference\n",
    "\n",
    "def DistanceBetweenPatternAndStrings(Pattern, DNA):\n",
    "    k = len(Pattern)\n",
    "    distance = 0\n",
    "    for text in DNA:\n",
    "        hammingdistance = 999999999\n",
    "        for i in range(len(text)-len(Pattern)+1):\n",
    "            Pattern_ = text[i:i+len(Pattern)]\n",
    "            if hammingdistance > HammingDistance(Pattern_,Pattern):\n",
    "                hammingdistance = HammingDistance(Pattern_,Pattern)\n",
    "        distance = distance + hammingdistance\n",
    "    print distance\n",
    "    \n",
    "Pattern = \"AAA\"\n",
    "DNA = [\"TTACCTTAAC\", \"GATATCTGTC\", \"ACGGCGTTCG\", \"CCCTAAAGAG\", \"CGTCAGAGGT\"]\n",
    "DistanceBetweenPatternAndStrings(Pattern, DNA)"
   ]
  }
 ],
 "metadata": {
  "kernelspec": {
   "display_name": "Python 2",
   "language": "python",
   "name": "python2"
  },
  "language_info": {
   "codemirror_mode": {
    "name": "ipython",
    "version": 2
   },
   "file_extension": ".py",
   "mimetype": "text/x-python",
   "name": "python",
   "nbconvert_exporter": "python",
   "pygments_lexer": "ipython2",
   "version": "2.7.12"
  }
 },
 "nbformat": 4,
 "nbformat_minor": 2
}
