{
 "cells": [
  {
   "cell_type": "markdown",
   "metadata": {
    "deletable": true,
    "editable": true
   },
   "source": [
    "# Chapter 1"
   ]
  },
  {
   "cell_type": "markdown",
   "metadata": {
    "deletable": true,
    "editable": true
   },
   "source": [
    "BA1A: Compute the Number of Times a Pattern Appears in a Text"
   ]
  },
  {
   "cell_type": "code",
   "execution_count": 1,
   "metadata": {
    "collapsed": false,
    "deletable": true,
    "editable": true
   },
   "outputs": [
    {
     "name": "stdout",
     "output_type": "stream",
     "text": [
      "2\n"
     ]
    }
   ],
   "source": [
    "def PatternCount(Text, Pattern):\n",
    "    #Set the number of\n",
    "    count = 0\n",
    "    length = len(Pattern)\n",
    "    for i in range (len(Text)):\n",
    "        str = Text[i:i+length]\n",
    "        if str == Pattern:\n",
    "            count = count + 1\n",
    "    print count\n",
    "\n",
    "PatternCount(\"GCGCG\",\"GCG\")"
   ]
  },
  {
   "cell_type": "markdown",
   "metadata": {
    "deletable": true,
    "editable": true
   },
   "source": [
    "BA1B: Find the Most Frequent Words in a String"
   ]
  },
  {
   "cell_type": "code",
   "execution_count": 2,
   "metadata": {
    "collapsed": false,
    "deletable": true,
    "editable": true
   },
   "outputs": [
    {
     "name": "stdout",
     "output_type": "stream",
     "text": [
      "GCAT CATG\n"
     ]
    }
   ],
   "source": [
    "def frequentWords(DNA, k):\n",
    "    n = len(DNA)\n",
    "    maxfreq = 0\n",
    "    for i in range(n-k+1):\n",
    "        kmer = DNA[i:i+k]\n",
    "        freq = DNA.count(kmer)\n",
    "        if freq > maxfreq:\n",
    "            maxfreq = freq\n",
    "    for i in range(n-k+1):\n",
    "        kmer = DNA[i:i+k]\n",
    "        DNA_starting_at_i = DNA[i:n]\n",
    "        freq = DNA_starting_at_i.count(kmer)\n",
    "        if freq == maxfreq:\n",
    "            print kmer,\n",
    "        \n",
    "frequentWords(\"ACGTTGCATGTCGCATGATGCATGAGAGCT\",4)"
   ]
  },
  {
   "cell_type": "markdown",
   "metadata": {
    "collapsed": true,
    "deletable": true,
    "editable": true
   },
   "source": [
    "BA1C: Find the Reverse Complement of a String"
   ]
  },
  {
   "cell_type": "code",
   "execution_count": 3,
   "metadata": {
    "collapsed": false,
    "deletable": true,
    "editable": true
   },
   "outputs": [
    {
     "name": "stdout",
     "output_type": "stream",
     "text": [
      "ACCGGGTTTT\n"
     ]
    }
   ],
   "source": [
    "def reverseComplement(DNA):\n",
    "    DNA = DNA[::-1]\n",
    "    reverse = []\n",
    "    for neucleotide in DNA:\n",
    "        if neucleotide == 'A':\n",
    "            reverse.append(\"T\")\n",
    "        elif neucleotide == 'T':\n",
    "            reverse.append('A')\n",
    "        elif neucleotide == 'C':\n",
    "            reverse.append('G')\n",
    "        elif neucleotide == 'G':\n",
    "            reverse.append('C')\n",
    "    print ''.join(reverse)\n",
    "reverseComplement(\"AAAACCCGGT\")"
   ]
  },
  {
   "cell_type": "markdown",
   "metadata": {
    "deletable": true,
    "editable": true
   },
   "source": [
    "BA1D: Find All Occurrences of a Pattern in a String"
   ]
  },
  {
   "cell_type": "code",
   "execution_count": 4,
   "metadata": {
    "collapsed": false,
    "deletable": true,
    "editable": true
   },
   "outputs": [
    {
     "name": "stdout",
     "output_type": "stream",
     "text": [
      "1 3 9\n"
     ]
    }
   ],
   "source": [
    "def PatternMatching(Genome, Pattern):\n",
    "    for i in range(len(Genome)-len(Pattern)+1):\n",
    "        if Genome[i:i+len(Pattern)] == Pattern:\n",
    "            print i,\n",
    "    \n",
    "PatternMatching(\"GATATATGCATATACTT\", \"ATAT\")"
   ]
  }
 ],
 "metadata": {
  "kernelspec": {
   "display_name": "Python 2",
   "language": "python",
   "name": "python2"
  },
  "language_info": {
   "codemirror_mode": {
    "name": "ipython",
    "version": 2
   },
   "file_extension": ".py",
   "mimetype": "text/x-python",
   "name": "python",
   "nbconvert_exporter": "python",
   "pygments_lexer": "ipython2",
   "version": "2.7.12"
  }
 },
 "nbformat": 4,
 "nbformat_minor": 2
}
