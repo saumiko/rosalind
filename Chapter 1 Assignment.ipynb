{
 "cells": [
  {
   "cell_type": "markdown",
   "metadata": {
    "deletable": true,
    "editable": true
   },
   "source": [
    "# Chapter 1"
   ]
  },
  {
   "cell_type": "markdown",
   "metadata": {
    "deletable": true,
    "editable": true
   },
   "source": [
    "BA1A: Compute the Number of Times a Pattern Appears in a Text"
   ]
  },
  {
   "cell_type": "code",
   "execution_count": 1,
   "metadata": {
    "collapsed": false,
    "deletable": true,
    "editable": true
   },
   "outputs": [
    {
     "name": "stdout",
     "output_type": "stream",
     "text": [
      "2\n"
     ]
    }
   ],
   "source": [
    "def PatternCount(Text, Pattern):\n",
    "    #Set the number of\n",
    "    count = 0\n",
    "    length = len(Pattern)\n",
    "    for i in range (len(Text)):\n",
    "        str = Text[i:i+length]\n",
    "        if str == Pattern:\n",
    "            count = count + 1\n",
    "    print count\n",
    "\n",
    "PatternCount(\"GCGCG\",\"GCG\")"
   ]
  },
  {
   "cell_type": "markdown",
   "metadata": {
    "deletable": true,
    "editable": true
   },
   "source": [
    "BA1B: Find the Most Frequent Words in a String"
   ]
  },
  {
   "cell_type": "code",
   "execution_count": 2,
   "metadata": {
    "collapsed": false,
    "deletable": true,
    "editable": true
   },
   "outputs": [
    {
     "name": "stdout",
     "output_type": "stream",
     "text": [
      "GCAT CATG\n"
     ]
    }
   ],
   "source": [
    "def frequentWords(DNA, k):\n",
    "    n = len(DNA)\n",
    "    maxfreq = 0\n",
    "    for i in range(n-k+1):\n",
    "        kmer = DNA[i:i+k]\n",
    "        freq = DNA.count(kmer)\n",
    "        if freq > maxfreq:\n",
    "            maxfreq = freq\n",
    "    for i in range(n-k+1):\n",
    "        kmer = DNA[i:i+k]\n",
    "        DNA_starting_at_i = DNA[i:n]\n",
    "        freq = DNA_starting_at_i.count(kmer)\n",
    "        if freq == maxfreq:\n",
    "            print kmer,\n",
    "        \n",
    "frequentWords(\"ACGTTGCATGTCGCATGATGCATGAGAGCT\",4)"
   ]
  },
  {
   "cell_type": "markdown",
   "metadata": {
    "collapsed": true,
    "deletable": true,
    "editable": true
   },
   "source": [
    "BA1C: Find the Reverse Complement of a String"
   ]
  },
  {
   "cell_type": "code",
   "execution_count": 3,
   "metadata": {
    "collapsed": false,
    "deletable": true,
    "editable": true
   },
   "outputs": [
    {
     "name": "stdout",
     "output_type": "stream",
     "text": [
      "ACCGGGTTTT\n"
     ]
    }
   ],
   "source": [
    "def reverseComplement(DNA):\n",
    "    DNA = DNA[::-1]\n",
    "    reverse = []\n",
    "    for neucleotide in DNA:\n",
    "        if neucleotide == 'A':\n",
    "            reverse.append(\"T\")\n",
    "        elif neucleotide == 'T':\n",
    "            reverse.append('A')\n",
    "        elif neucleotide == 'C':\n",
    "            reverse.append('G')\n",
    "        elif neucleotide == 'G':\n",
    "            reverse.append('C')\n",
    "    print ''.join(reverse)\n",
    "reverseComplement(\"AAAACCCGGT\")"
   ]
  },
  {
   "cell_type": "markdown",
   "metadata": {
    "deletable": true,
    "editable": true
   },
   "source": [
    "BA1D: Find All Occurrences of a Pattern in a String"
   ]
  },
  {
   "cell_type": "code",
   "execution_count": 4,
   "metadata": {
    "collapsed": false,
    "deletable": true,
    "editable": true
   },
   "outputs": [
    {
     "name": "stdout",
     "output_type": "stream",
     "text": [
      "1 3 9\n"
     ]
    }
   ],
   "source": [
    "def PatternMatching(Genome, Pattern):\n",
    "    for i in range(len(Genome)-len(Pattern)+1):\n",
    "        if Genome[i:i+len(Pattern)] == Pattern:\n",
    "            print i,\n",
    "    \n",
    "PatternMatching(\"GATATATGCATATACTT\", \"ATAT\")"
   ]
  },
  {
   "cell_type": "markdown",
   "metadata": {
    "deletable": true,
    "editable": true
   },
   "source": [
    "BA1E: Find Patterns Forming Clumps in a String"
   ]
  },
  {
   "cell_type": "code",
   "execution_count": 5,
   "metadata": {
    "collapsed": false,
    "deletable": true,
    "editable": true
   },
   "outputs": [
    {
     "name": "stdout",
     "output_type": "stream",
     "text": [
      "CGACA GAAGA AATGT\n"
     ]
    }
   ],
   "source": [
    "def clumpFinding( s, k, L, t ):\n",
    "    out = []\n",
    "    for start in range(len(s)-L+1):\n",
    "        window = s[start:start+L]\n",
    "        counts = {}\n",
    "        for i in range(len(window)-k+1):\n",
    "            if window[i:i+k] not in counts:\n",
    "                counts[window[i:i+k]] = 0\n",
    "            counts[window[i:i+k]] += 1\n",
    "        for kmer in counts:\n",
    "            if counts[kmer] >= t and kmer not in out:\n",
    "                out.append(kmer)\n",
    "    print ' '.join(out)\n",
    "\n",
    "clumpFinding(\"CGGACTCGACAGATGTGAAGAAATGTGAAGACTGAGTGAAGAGAAGAGGAAACACGACACGACATTGCGACATAATGTACGAATGTAATGTGCCTATGGC\",5,75,4)"
   ]
  },
  {
   "cell_type": "markdown",
   "metadata": {
    "deletable": true,
    "editable": true
   },
   "source": [
    "BA1F: Find a Position in a Genome Minimizing the Skew"
   ]
  },
  {
   "cell_type": "code",
   "execution_count": 6,
   "metadata": {
    "collapsed": false,
    "deletable": true,
    "editable": true
   },
   "outputs": [
    {
     "name": "stdout",
     "output_type": "stream",
     "text": [
      "53 97\n"
     ]
    }
   ],
   "source": [
    "def minSkew(DNA):\n",
    "    minimum = 10000\n",
    "    position = [0]\n",
    "    gCount = 0\n",
    "    cCount = 0\n",
    "    for i in range (len(DNA)):\n",
    "        if DNA[i] == 'G':\n",
    "            gCount = gCount + 1\n",
    "        elif DNA[i] == 'C':\n",
    "            cCount = cCount + 1\n",
    "        position.append(gCount-cCount)\n",
    "    gCount = 0\n",
    "    cCount = 0\n",
    "    for i in range (len(DNA)):\n",
    "        if DNA[i] == 'G':\n",
    "            gCount = gCount + 1\n",
    "        elif DNA[i] == 'C':\n",
    "            cCount = cCount + 1\n",
    "        if gCount-cCount == min(position):\n",
    "            print(i+1),\n",
    "\n",
    "minSkew('CCTATCGGTGGATTAGCATGTCCCTGTACGTTTCGCCGCGAACTAGTTCACACGGCTTGATGGCAAATGGTTTTTCCGGCGACCGTAATCGTCCACCGAG')"
   ]
  },
  {
   "cell_type": "markdown",
   "metadata": {
    "deletable": true,
    "editable": true
   },
   "source": [
    "BA1G: Compute the Hamming Distance Between Two Strings"
   ]
  },
  {
   "cell_type": "code",
   "execution_count": 7,
   "metadata": {
    "collapsed": false,
    "deletable": true,
    "editable": true
   },
   "outputs": [
    {
     "name": "stdout",
     "output_type": "stream",
     "text": [
      "3\n"
     ]
    }
   ],
   "source": [
    "def hammingDistance(seq1, seq2):\n",
    "    difference = 0\n",
    "    for ch1, ch2 in zip(seq1, seq2):\n",
    "        if ch1 != ch2:\n",
    "            difference += 1\n",
    "    print difference\n",
    "\n",
    "hammingDistance('GGGCCGTTGGT', 'GGACCGTTGAC')"
   ]
  },
  {
   "cell_type": "markdown",
   "metadata": {},
   "source": [
    "BA1H: Find All Approximate Occurrences of a Pattern in a String"
   ]
  },
  {
   "cell_type": "code",
   "execution_count": 4,
   "metadata": {
    "collapsed": false
   },
   "outputs": [
    {
     "name": "stdout",
     "output_type": "stream",
     "text": [
      "6 7 26 27 78\n"
     ]
    }
   ],
   "source": [
    "def hammingDistance(seq1, seq2):\n",
    "    difference = 0\n",
    "    for ch1, ch2 in zip(seq1, seq2):\n",
    "        if ch1 != ch2:\n",
    "            difference += 1\n",
    "    return difference\n",
    "\n",
    "def findPosition(Pattern, Genome, d):\n",
    "    for i in range(len(Genome)-len(Pattern)):\n",
    "        window = Genome[i:i+len(Pattern)]\n",
    "        if(hammingDistance(window, Pattern) <= d):\n",
    "            print i,\n",
    "        \n",
    "findPosition(\"ATTCTGGA\", \"CGCCCGAATCCAGAACGCATTCCCATATTTCGGGACCACTGGCCTCCACGGTACGGACGTCAATCAAATGCCTAGCGGCTTGTGGTTTCTCCTACGCTCC\", 3)"
   ]
  },
  {
   "cell_type": "markdown",
   "metadata": {},
   "source": [
    "BA1I: Find the Most Frequent Words with Mismatches in a String"
   ]
  },
  {
   "cell_type": "code",
   "execution_count": 11,
   "metadata": {
    "collapsed": false
   },
   "outputs": [
    {
     "name": "stdout",
     "output_type": "stream",
     "text": [
      "ACGT AGAG ATGA ATGA ATGA ATGA ATGC ATGT CATG CATG CATG CATG CATG CATG CATG CATG CATG CGCA CGTT GAGA GAGC GATG GCAT GCAT GCAT GCAT GCAT GCAT GCAT GCAT GCAT GTCG GTTG TCGC TGAG TGAT TGCA TGCA TGCA TGCA TGTC TTGC\n"
     ]
    }
   ],
   "source": [
    "#হয়নাই\n",
    "def hammingDistance(seq1, seq2):\n",
    "    difference = 0\n",
    "    for ch1, ch2 in zip(seq1, seq2):\n",
    "        if ch1 != ch2:\n",
    "            difference += 1\n",
    "    return difference\n",
    "\n",
    "def findKMer(Genome, k, d):\n",
    "    freqKmer = []\n",
    "    for i in range(len(Genome)-k):\n",
    "        kmer = Genome[i:i+k]\n",
    "        for j in range(len(Genome) - k):\n",
    "            window = Genome[j:j+k]\n",
    "            if(hammingDistance(kmer,window)<d):\n",
    "                freqKmer.append(kmer)\n",
    "    freqKmer.sort()\n",
    "    print ' '.join(freqKmer)\n",
    "    \n",
    "findKMer(\"ACGTTGCATGTCGCATGATGCATGAGAGCT\", 4, 1)"
   ]
  }
 ],
 "metadata": {
  "kernelspec": {
   "display_name": "Python 2",
   "language": "python",
   "name": "python2"
  },
  "language_info": {
   "codemirror_mode": {
    "name": "ipython",
    "version": 2
   },
   "file_extension": ".py",
   "mimetype": "text/x-python",
   "name": "python",
   "nbconvert_exporter": "python",
   "pygments_lexer": "ipython2",
   "version": "2.7.12"
  }
 },
 "nbformat": 4,
 "nbformat_minor": 2
}
