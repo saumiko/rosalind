{
 "cells": [
  {
   "cell_type": "markdown",
   "metadata": {
    "deletable": true,
    "editable": true
   },
   "source": [
    "# Chapter 1"
   ]
  },
  {
   "cell_type": "markdown",
   "metadata": {
    "deletable": true,
    "editable": true
   },
   "source": [
    "BA1A: Compute the Number of Times a Pattern Appears in a Text"
   ]
  },
  {
   "cell_type": "code",
   "execution_count": 1,
   "metadata": {
    "collapsed": false,
    "deletable": true,
    "editable": true
   },
   "outputs": [
    {
     "name": "stdout",
     "output_type": "stream",
     "text": [
      "2\n"
     ]
    }
   ],
   "source": [
    "def PatternCount(Text, Pattern):\n",
    "    count = 0\n",
    "    length = len(Pattern)\n",
    "    for i in range (len(Text)):\n",
    "        str = Text[i:i+length]\n",
    "        if str == Pattern:\n",
    "            count = count + 1\n",
    "    print count\n",
    "\n",
    "PatternCount(\"GCGCG\",\"GCG\")"
   ]
  },
  {
   "cell_type": "markdown",
   "metadata": {
    "deletable": true,
    "editable": true
   },
   "source": [
    "BA1B: Find the Most Frequent Words in a String"
   ]
  },
  {
   "cell_type": "code",
   "execution_count": 2,
   "metadata": {
    "collapsed": false,
    "deletable": true,
    "editable": true
   },
   "outputs": [
    {
     "name": "stdout",
     "output_type": "stream",
     "text": [
      "GCAT CATG\n"
     ]
    }
   ],
   "source": [
    "def frequentWords(DNA, k):\n",
    "    n = len(DNA)\n",
    "    maxfreq = 0\n",
    "    for i in range(n-k+1):\n",
    "        kmer = DNA[i:i+k]\n",
    "        freq = DNA.count(kmer)\n",
    "        if freq > maxfreq:\n",
    "            maxfreq = freq\n",
    "    for i in range(n-k+1):\n",
    "        kmer = DNA[i:i+k]\n",
    "        DNA_starting_at_i = DNA[i:n]\n",
    "        freq = DNA_starting_at_i.count(kmer)\n",
    "        if freq == maxfreq:\n",
    "            print kmer,\n",
    "        \n",
    "frequentWords(\"ACGTTGCATGTCGCATGATGCATGAGAGCT\",4)"
   ]
  },
  {
   "cell_type": "markdown",
   "metadata": {
    "collapsed": true,
    "deletable": true,
    "editable": true
   },
   "source": [
    "BA1C: Find the Reverse Complement of a String"
   ]
  },
  {
   "cell_type": "code",
   "execution_count": 3,
   "metadata": {
    "collapsed": false,
    "deletable": true,
    "editable": true
   },
   "outputs": [
    {
     "name": "stdout",
     "output_type": "stream",
     "text": [
      "ACCGGGTTTT\n"
     ]
    }
   ],
   "source": [
    "def reverseComplement(DNA):\n",
    "    DNA = DNA[::-1]\n",
    "    reverse = []\n",
    "    for neucleotide in DNA:\n",
    "        if neucleotide == 'A':\n",
    "            reverse.append(\"T\")\n",
    "        elif neucleotide == 'T':\n",
    "            reverse.append('A')\n",
    "        elif neucleotide == 'C':\n",
    "            reverse.append('G')\n",
    "        elif neucleotide == 'G':\n",
    "            reverse.append('C')\n",
    "    print ''.join(reverse)\n",
    "reverseComplement(\"AAAACCCGGT\")"
   ]
  },
  {
   "cell_type": "markdown",
   "metadata": {
    "deletable": true,
    "editable": true
   },
   "source": [
    "BA1D: Find All Occurrences of a Pattern in a String"
   ]
  },
  {
   "cell_type": "code",
   "execution_count": 4,
   "metadata": {
    "collapsed": false,
    "deletable": true,
    "editable": true
   },
   "outputs": [
    {
     "name": "stdout",
     "output_type": "stream",
     "text": [
      "1 3 9\n"
     ]
    }
   ],
   "source": [
    "def PatternMatching(Genome, Pattern):\n",
    "    for i in range(len(Genome)-len(Pattern)+1):\n",
    "        if Genome[i:i+len(Pattern)] == Pattern:\n",
    "            print i,\n",
    "    \n",
    "PatternMatching(\"GATATATGCATATACTT\", \"ATAT\")"
   ]
  },
  {
   "cell_type": "markdown",
   "metadata": {
    "deletable": true,
    "editable": true
   },
   "source": [
    "BA1E: Find Patterns Forming Clumps in a String"
   ]
  },
  {
   "cell_type": "code",
   "execution_count": 5,
   "metadata": {
    "collapsed": false,
    "deletable": true,
    "editable": true
   },
   "outputs": [
    {
     "name": "stdout",
     "output_type": "stream",
     "text": [
      "CGACA GAAGA AATGT\n"
     ]
    }
   ],
   "source": [
    "def clumpFinding( s, k, L, t ):\n",
    "    out = []\n",
    "    for start in range(len(s)-L+1):\n",
    "        window = s[start:start+L]\n",
    "        counts = {}\n",
    "        for i in range(len(window)-k+1):\n",
    "            if window[i:i+k] not in counts:\n",
    "                counts[window[i:i+k]] = 0\n",
    "            counts[window[i:i+k]] += 1\n",
    "        for kmer in counts:\n",
    "            if counts[kmer] >= t and kmer not in out:\n",
    "                out.append(kmer)\n",
    "    print ' '.join(out)\n",
    "\n",
    "clumpFinding(\"CGGACTCGACAGATGTGAAGAAATGTGAAGACTGAGTGAAGAGAAGAGGAAACACGACACGACATTGCGACATAATGTACGAATGTAATGTGCCTATGGC\",5,75,4)"
   ]
  },
  {
   "cell_type": "markdown",
   "metadata": {
    "deletable": true,
    "editable": true
   },
   "source": [
    "BA1F: Find a Position in a Genome Minimizing the Skew"
   ]
  },
  {
   "cell_type": "code",
   "execution_count": 6,
   "metadata": {
    "collapsed": false,
    "deletable": true,
    "editable": true
   },
   "outputs": [
    {
     "name": "stdout",
     "output_type": "stream",
     "text": [
      "53 97\n"
     ]
    }
   ],
   "source": [
    "def minSkew(DNA):\n",
    "    minimum = 10000\n",
    "    position = [0]\n",
    "    gCount = 0\n",
    "    cCount = 0\n",
    "    for i in range (len(DNA)):\n",
    "        if DNA[i] == 'G':\n",
    "            gCount = gCount + 1\n",
    "        elif DNA[i] == 'C':\n",
    "            cCount = cCount + 1\n",
    "        position.append(gCount-cCount)\n",
    "    gCount = 0\n",
    "    cCount = 0\n",
    "    for i in range (len(DNA)):\n",
    "        if DNA[i] == 'G':\n",
    "            gCount = gCount + 1\n",
    "        elif DNA[i] == 'C':\n",
    "            cCount = cCount + 1\n",
    "        if gCount-cCount == min(position):\n",
    "            print(i+1),\n",
    "\n",
    "minSkew('CCTATCGGTGGATTAGCATGTCCCTGTACGTTTCGCCGCGAACTAGTTCACACGGCTTGATGGCAAATGGTTTTTCCGGCGACCGTAATCGTCCACCGAG')"
   ]
  },
  {
   "cell_type": "markdown",
   "metadata": {
    "deletable": true,
    "editable": true
   },
   "source": [
    "BA1G: Compute the Hamming Distance Between Two Strings"
   ]
  },
  {
   "cell_type": "code",
   "execution_count": 7,
   "metadata": {
    "collapsed": false,
    "deletable": true,
    "editable": true
   },
   "outputs": [
    {
     "name": "stdout",
     "output_type": "stream",
     "text": [
      "3\n"
     ]
    }
   ],
   "source": [
    "def hammingDistance(seq1, seq2):\n",
    "    difference = 0\n",
    "    for ch1, ch2 in zip(seq1, seq2):\n",
    "        if ch1 != ch2:\n",
    "            difference += 1\n",
    "    print difference\n",
    "\n",
    "hammingDistance('GGGCCGTTGGT', 'GGACCGTTGAC')"
   ]
  },
  {
   "cell_type": "markdown",
   "metadata": {
    "deletable": true,
    "editable": true
   },
   "source": [
    "BA1H: Find All Approximate Occurrences of a Pattern in a String"
   ]
  },
  {
   "cell_type": "code",
   "execution_count": 8,
   "metadata": {
    "collapsed": false,
    "deletable": true,
    "editable": true
   },
   "outputs": [
    {
     "name": "stdout",
     "output_type": "stream",
     "text": [
      "6 7 26 27 78\n"
     ]
    }
   ],
   "source": [
    "def hammingDistance(seq1, seq2):\n",
    "    difference = 0\n",
    "    for ch1, ch2 in zip(seq1, seq2):\n",
    "        if ch1 != ch2:\n",
    "            difference += 1\n",
    "    return difference\n",
    "\n",
    "def findPosition(Pattern, Genome, d):\n",
    "    for i in range(len(Genome)-len(Pattern)):\n",
    "        window = Genome[i:i+len(Pattern)]\n",
    "        if(hammingDistance(window, Pattern) <= d):\n",
    "            print i,\n",
    "        \n",
    "findPosition(\"ATTCTGGA\", \"CGCCCGAATCCAGAACGCATTCCCATATTTCGGGACCACTGGCCTCCACGGTACGGACGTCAATCAAATGCCTAGCGGCTTGTGGTTTCTCCTACGCTCC\", 3)"
   ]
  },
  {
   "cell_type": "markdown",
   "metadata": {
    "deletable": true,
    "editable": true
   },
   "source": [
    "BA1I: Find the Most Frequent Words with Mismatches in a String"
   ]
  },
  {
   "cell_type": "code",
   "execution_count": 9,
   "metadata": {
    "collapsed": false,
    "deletable": true,
    "editable": true
   },
   "outputs": [
    {
     "name": "stdout",
     "output_type": "stream",
     "text": [
      "ATGC ATGT GATG\n"
     ]
    }
   ],
   "source": [
    "#Still Needs Clarification : https://gist.github.com/alec-djinn/9018370\n",
    "from collections import OrderedDict\n",
    "from operator import itemgetter\n",
    "\n",
    "def hammingDistance(seq1, seq2):\n",
    "    difference = 0\n",
    "    for ch1, ch2 in zip(seq1, seq2):\n",
    "        if ch1 != ch2:\n",
    "            difference += 1\n",
    "    return difference\n",
    "\n",
    "def findKMer(Genome, k, d):\n",
    "    kmer_dict = {}\n",
    "    for i in range(len(Genome)-k+1):\n",
    "        kmer = Genome[i:i+k]\n",
    "        if kmer not in kmer_dict:\n",
    "            kmer_dict[kmer] = 1\n",
    "        else:\n",
    "            kmer_dict[kmer] += 1\n",
    "    kmer_dict_with_mismatches = {}\n",
    "    for kmer in kmer_dict:\n",
    "        kmer_dict_with_mismatches.update({kmer:[]})\n",
    "        for other_kmer in kmer_dict:\n",
    "            mismatches = hammingDistance(kmer,other_kmer)\n",
    "            if mismatches <= d:\n",
    "                kmer_dict_with_mismatches[kmer].append([other_kmer,kmer_dict[other_kmer]])\n",
    "    tmp = {}\n",
    "    for item in kmer_dict_with_mismatches:\n",
    "        count = 0\n",
    "        for motif in kmer_dict_with_mismatches[item]:\n",
    "            count += motif[-1]\n",
    "        tmp.update({item:count})\n",
    "    \n",
    "    result = OrderedDict(sorted(tmp.items(), key=itemgetter(1), reverse=True))\n",
    "    \n",
    "    commons = OrderedDict()\n",
    "    _max = result.items()[0][1]\n",
    "    for item in result:\n",
    "        if result[item] == _max:\n",
    "            commons.update({item:result[item]})\n",
    "        else:\n",
    "            return commons\n",
    "    return result\n",
    "    \n",
    "result = findKMer(\"ACGTTGCATGTCGCATGATGCATGAGAGCT\", 4, 1)\n",
    "for kmer in result:\n",
    "    print kmer,"
   ]
  },
  {
   "cell_type": "markdown",
   "metadata": {
    "deletable": true,
    "editable": true
   },
   "source": [
    "BA1J: Find Frequent Words with Mismatches and Reverse Complements"
   ]
  },
  {
   "cell_type": "code",
   "execution_count": null,
   "metadata": {
    "collapsed": true,
    "deletable": true,
    "editable": true
   },
   "outputs": [],
   "source": []
  },
  {
   "cell_type": "markdown",
   "metadata": {
    "deletable": true,
    "editable": true
   },
   "source": [
    "BA1K: Generate the Frequency Array of a String"
   ]
  },
  {
   "cell_type": "code",
   "execution_count": 10,
   "metadata": {
    "collapsed": false,
    "deletable": true,
    "editable": true
   },
   "outputs": [
    {
     "name": "stdout",
     "output_type": "stream",
     "text": [
      "2 1 0 0 0 0 2 2 1 2 1 0 0 1 1 0\n"
     ]
    }
   ],
   "source": [
    "import itertools\n",
    "\n",
    "def getFrequencyArray(k):\n",
    "    x = itertools.product(['A','C','G','T'],repeat=2)\n",
    "    combinations = []\n",
    "    for i in x:\n",
    "        combinations.append(''.join(i))\n",
    "    return combinations\n",
    "\n",
    "def getFrequency(Genome, k):\n",
    "    freqarr = getFrequencyArray(k)\n",
    "    for i in freqarr:\n",
    "        count = 0\n",
    "        for j in range(len(Genome)-k+1):\n",
    "            window = Genome[j:j+k]\n",
    "            if i == window:\n",
    "                count = count+1\n",
    "        print count,\n",
    "\n",
    "getFrequency(\"ACGCGGCTCTGAAA\", 2)"
   ]
  },
  {
   "cell_type": "markdown",
   "metadata": {
    "deletable": true,
    "editable": true
   },
   "source": [
    "BA1L: Implement PatternToNumber"
   ]
  },
  {
   "cell_type": "code",
   "execution_count": 11,
   "metadata": {
    "collapsed": false,
    "deletable": true,
    "editable": true
   },
   "outputs": [
    {
     "name": "stdout",
     "output_type": "stream",
     "text": [
      "11\n"
     ]
    }
   ],
   "source": [
    "#Problem solved using recursion\n",
    "\n",
    "dna = {'A':0 ,'C':1,'G':2,'T':3}\n",
    "def PatternToNumber(pattern):\n",
    "    if len(pattern)==0:\n",
    "        return 0\n",
    "    sym = pattern[len(pattern)-1] #T G A\n",
    "    pref = pattern[:len(pattern)-1] #AG A _ \n",
    "    return 4*PatternToNumber(pref)+dna[sym] #4*2+3 4*0+2 4*0+0\n",
    "\n",
    "print PatternToNumber(\"AGT\")\n"
   ]
  },
  {
   "cell_type": "markdown",
   "metadata": {
    "deletable": true,
    "editable": true
   },
   "source": [
    "BA1M: Implement NumberToPattern"
   ]
  },
  {
   "cell_type": "code",
   "execution_count": null,
   "metadata": {
    "collapsed": true,
    "deletable": true,
    "editable": true
   },
   "outputs": [],
   "source": []
  },
  {
   "cell_type": "markdown",
   "metadata": {},
   "source": [
    "BA1N: Generate the d-Neighborhood of a String"
   ]
  },
  {
   "cell_type": "code",
   "execution_count": null,
   "metadata": {
    "collapsed": true
   },
   "outputs": [],
   "source": []
  }
 ],
 "metadata": {
  "kernelspec": {
   "display_name": "Python 2",
   "language": "python",
   "name": "python2"
  },
  "language_info": {
   "codemirror_mode": {
    "name": "ipython",
    "version": 2
   },
   "file_extension": ".py",
   "mimetype": "text/x-python",
   "name": "python",
   "nbconvert_exporter": "python",
   "pygments_lexer": "ipython2",
   "version": "2.7.12"
  }
 },
 "nbformat": 4,
 "nbformat_minor": 2
}
