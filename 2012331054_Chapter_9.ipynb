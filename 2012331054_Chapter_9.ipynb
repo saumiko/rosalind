{
 "cells": [
  {
   "cell_type": "markdown",
   "metadata": {
    "deletable": true,
    "editable": true
   },
   "source": [
    "# Chapter 9"
   ]
  },
  {
   "cell_type": "markdown",
   "metadata": {
    "deletable": true,
    "editable": true
   },
   "source": [
    "BA9A: Construct a Trie from a Collection of Patterns"
   ]
  },
  {
   "cell_type": "code",
   "execution_count": 11,
   "metadata": {
    "collapsed": false,
    "deletable": true,
    "editable": true
   },
   "outputs": [
    {
     "name": "stdout",
     "output_type": "stream",
     "text": [
      "0->1:A\n",
      "1->2:T\n",
      "2->3:A\n",
      "3->4:G\n",
      "4->5:A\n",
      "2->6:C\n",
      "0->7:G\n",
      "7->8:A\n",
      "8->9:T\n"
     ]
    }
   ],
   "source": [
    "def TrieConstruction(Patterns):\n",
    "    kmer=[]\n",
    "    h=[]\n",
    "    t=[]\n",
    "    m=0\n",
    "    n=0\n",
    "    edgeH={\"\":0}\n",
    "    edgeT={}\n",
    "    ans=[]\n",
    "    for i in range(len(Patterns)):\n",
    "        for j in range(len(Patterns[i])):\n",
    "            if Patterns[i][0:j+1] not in kmer:\n",
    "                kmer+=[Patterns[i][0:j+1]]\n",
    "                ans+=[Patterns[i][j]]\n",
    "                if len(Patterns[i][0:j+1])==1:\n",
    "                    m=0\n",
    "                    h+=[m]\n",
    "                else:\n",
    "                    s=Patterns[i][0:j]\n",
    "                    for x in range(len(kmer)):\n",
    "                        if s==kmer[x]:\n",
    "                            h+=[t[x]]\n",
    "                n+=1\n",
    "                t+=[n]\n",
    "    for i in range(len(ans)):\n",
    "        print str(h[i])+\"->\"+str(t[i])+\":\"+str(ans[i])\n",
    "\n",
    "Patterns=['ATAGA','ATC','GAT']\n",
    "TrieConstruction(Patterns)"
   ]
  },
  {
   "cell_type": "markdown",
   "metadata": {
    "deletable": true,
    "editable": true
   },
   "source": [
    "BA9B: Implement TrieMatching"
   ]
  },
  {
   "cell_type": "code",
   "execution_count": 6,
   "metadata": {
    "collapsed": false,
    "deletable": true,
    "editable": true
   },
   "outputs": [
    {
     "name": "stdout",
     "output_type": "stream",
     "text": [
      "[1, 4, 11, 15]\n"
     ]
    }
   ],
   "source": [
    "def TrieMatching(Text, Pattern):\n",
    "    ans=[]\n",
    "    for i in range(len(Pattern)):\n",
    "        for j in range(len(Text)-len(Pattern[i])+1):\n",
    "            if Pattern[i]==Text[j:j+len(Pattern[i])]:\n",
    "                ans+=[j]\n",
    "    ans=sorted(ans)\n",
    "    print ans\n",
    "\n",
    "Text = 'AATCGGGTTCAATCGGGGT'\n",
    "Pattern=['ATCG','GGGT']\n",
    "TrieMatching(Text, Pattern)"
   ]
  },
  {
   "cell_type": "markdown",
   "metadata": {
    "deletable": true,
    "editable": true
   },
   "source": [
    "BA9C: Construct the Suffix Tree of a String"
   ]
  },
  {
   "cell_type": "code",
   "execution_count": null,
   "metadata": {
    "collapsed": true,
    "deletable": true,
    "editable": true
   },
   "outputs": [],
   "source": []
  },
  {
   "cell_type": "markdown",
   "metadata": {
    "deletable": true,
    "editable": true
   },
   "source": [
    "BA9D: Find the Longest Repeat in a String"
   ]
  },
  {
   "cell_type": "code",
   "execution_count": 15,
   "metadata": {
    "collapsed": false,
    "deletable": true,
    "editable": true
   },
   "outputs": [
    {
     "name": "stdout",
     "output_type": "stream",
     "text": [
      "TTATCGTT\n"
     ]
    }
   ],
   "source": [
    "def LongestRepeat(Text):\n",
    "    kmer={}\n",
    "    l=len(Text)-1\n",
    "    while l>-1:\n",
    "        for i in range(l):\n",
    "            if Text[i:i+l] not in kmer:\n",
    "                kmer[Text[i:i+l]]=0\n",
    "            else:\n",
    "                kmer[Text[i:i+l]]+=1\n",
    "        l-=1\n",
    "    l=max(kmer.values())\n",
    "    for key,val in kmer.items():\n",
    "        if val==l:\n",
    "            print key\n",
    "            break\n",
    "\n",
    "Text='ATATCGTTTTATCGTT'\n",
    "LongestRepeat(Text)"
   ]
  },
  {
   "cell_type": "markdown",
   "metadata": {
    "deletable": true,
    "editable": true
   },
   "source": [
    "BA9E: Find the Longest Substring Shared by Two Strings"
   ]
  },
  {
   "cell_type": "code",
   "execution_count": 20,
   "metadata": {
    "collapsed": false,
    "deletable": true,
    "editable": true
   },
   "outputs": [
    {
     "name": "stdout",
     "output_type": "stream",
     "text": [
      "TCG\n"
     ]
    }
   ],
   "source": [
    "def LongestSubstring(Text1, Text2):\n",
    "    kmer1=[]\n",
    "    l=len(Text1)\n",
    "    j=1\n",
    "    while l>0:\n",
    "        for i in range(j):\n",
    "            if Text1[i:i+l] not in kmer1:\n",
    "                kmer1+=[Text1[i:i+l]]\n",
    "        l-=1\n",
    "        j+=1\n",
    "    ans=0\n",
    "    l=len(Text2)\n",
    "    j=1\n",
    "    while l>0:\n",
    "        for i in range(j):\n",
    "            if Text2[i:i+l] in kmer1:\n",
    "                print Text2[i:i+l]\n",
    "                ans=1\n",
    "                break\n",
    "        if ans==1:\n",
    "            break\n",
    "        l-=1\n",
    "        j+=1\n",
    "    \n",
    "Text1='AGGGGCTCGCAGTGTAAGAA'\n",
    "Text2='TCGGTAGATTGCGCCCACTC'\n",
    "LongestSubstring(Text1, Text2)"
   ]
  },
  {
   "cell_type": "markdown",
   "metadata": {
    "deletable": true,
    "editable": true
   },
   "source": [
    "BA9F: Find the Shortest Non-Shared Substring of Two Strings"
   ]
  },
  {
   "cell_type": "code",
   "execution_count": 24,
   "metadata": {
    "collapsed": false,
    "deletable": true,
    "editable": true
   },
   "outputs": [
    {
     "name": "stdout",
     "output_type": "stream",
     "text": [
      "AA\n"
     ]
    }
   ],
   "source": [
    "def LongestSubString(Text1, Text2):\n",
    "    kmer=[]\n",
    "    l=1\n",
    "    while l<len(Text2)+1:\n",
    "        for i in range(len(Text2)-l+1):\n",
    "            if Text2[i:i+l] not in kmer:\n",
    "                kmer+=[Text2[i:i+l]]\n",
    "        l+=1\n",
    "\n",
    "    ans=0\n",
    "    l=1\n",
    "    while l<len(Text1)+1:\n",
    "        for i in range(len(Text1)-l+1):\n",
    "            if Text1[i:i+l] not in kmer:\n",
    "                print Text1[i:i+l]\n",
    "                ans=1\n",
    "                break\n",
    "        if ans==1:\n",
    "            break\n",
    "        l+=1\n",
    "\n",
    "Text1='AGGGGCTCGCAGTGTAAGAA'\n",
    "Text2='TCGGTAGATTGCGCCCACTC'\n",
    "LongestSubString(Text1, Text2)"
   ]
  },
  {
   "cell_type": "markdown",
   "metadata": {
    "deletable": true,
    "editable": true
   },
   "source": [
    "BA9G: Construct the Suffix Array of a String"
   ]
  },
  {
   "cell_type": "code",
   "execution_count": null,
   "metadata": {
    "collapsed": true,
    "deletable": true,
    "editable": true
   },
   "outputs": [],
   "source": []
  },
  {
   "cell_type": "markdown",
   "metadata": {
    "deletable": true,
    "editable": true
   },
   "source": [
    "BA9H: Pattern Matching with the Suffix Array"
   ]
  },
  {
   "cell_type": "code",
   "execution_count": 29,
   "metadata": {
    "collapsed": false,
    "deletable": true,
    "editable": true
   },
   "outputs": [
    {
     "name": "stdout",
     "output_type": "stream",
     "text": [
      "[1, 4, 11, 15]\n"
     ]
    }
   ],
   "source": [
    "def PatternMatching(Text, Pattern):\n",
    "    ans=[]\n",
    "    for i in range(len(Pattern)):\n",
    "        for j in range(len(Text)-len(Pattern[i])+1):\n",
    "            if Pattern[i]==Text[j:j+len(Pattern[i])]:\n",
    "                ans+=[j]\n",
    "    ans.sort()\n",
    "    print ans\n",
    "    \n",
    "Text = 'AATCGGGTTCAATCGGGGT'\n",
    "Pattern=['ATCG','GGGT']\n",
    "PatternMatching(Text, Pattern)"
   ]
  },
  {
   "cell_type": "markdown",
   "metadata": {
    "deletable": true,
    "editable": true
   },
   "source": [
    "BA9I: Construct the Burrows-Wheeler Transform of a String"
   ]
  },
  {
   "cell_type": "code",
   "execution_count": 34,
   "metadata": {
    "collapsed": false,
    "deletable": true,
    "editable": true
   },
   "outputs": [
    {
     "name": "stdout",
     "output_type": "stream",
     "text": [
      "ACTGGCT$TGCGGC\n"
     ]
    }
   ],
   "source": [
    "def bw_transform(s):\n",
    "    n = len(s)\n",
    "    m = sorted([s[i:n]+s[0:i] for i in range(n)])\n",
    "    transfromeds = ''.join([q[-1] for q in m])\n",
    "    print transfromeds\n",
    "\n",
    "bw_transform(\"GCGTGCCTGGTCA$\")"
   ]
  },
  {
   "cell_type": "markdown",
   "metadata": {
    "deletable": true,
    "editable": true
   },
   "source": [
    "BA9J: Reconstruct a String from its Burrows-Wheeler Transform"
   ]
  },
  {
   "cell_type": "code",
   "execution_count": 46,
   "metadata": {
    "collapsed": false,
    "deletable": true,
    "editable": true
   },
   "outputs": [
    {
     "name": "stdout",
     "output_type": "stream",
     "text": [
      "TACATCACGT$\n"
     ]
    }
   ],
   "source": [
    "def bw_restore(L):\n",
    "    I = 9\n",
    "    n = len(L)\n",
    "    F = sorted([L[i] for i in range(n)])\n",
    "    X = list(F)\n",
    "    T = [None for i in range(n)]\n",
    "    for i in range(n):\n",
    "        j = X.index(L[i])\n",
    "        T[i] = j\n",
    "        X[j] = None\n",
    "    Tx = list([int(I), ])\n",
    "    for i in range(1,n):\n",
    "        Tx.append(T[Tx[i-1]])\n",
    "    S = [L[i] for i in Tx]\n",
    "    S.reverse()\n",
    "    print ''.join(S)\n",
    "\n",
    "bw_restore(\"TTCCTAACG$A\")"
   ]
  }
 ],
 "metadata": {
  "kernelspec": {
   "display_name": "Python 2",
   "language": "python",
   "name": "python2"
  },
  "language_info": {
   "codemirror_mode": {
    "name": "ipython",
    "version": 2
   },
   "file_extension": ".py",
   "mimetype": "text/x-python",
   "name": "python",
   "nbconvert_exporter": "python",
   "pygments_lexer": "ipython2",
   "version": "2.7.12"
  }
 },
 "nbformat": 4,
 "nbformat_minor": 2
}
