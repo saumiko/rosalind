{
 "cells": [
  {
   "cell_type": "markdown",
   "metadata": {
    "deletable": true,
    "editable": true
   },
   "source": [
    "Chapter 1"
   ]
  },
  {
   "cell_type": "markdown",
   "metadata": {
    "deletable": true,
    "editable": true
   },
   "source": [
    "http://rosalind.info/problems/ba1a/ :: Compute the Number of Times a Pattern Appears in a Text"
   ]
  },
  {
   "cell_type": "code",
   "execution_count": 10,
   "metadata": {
    "collapsed": false,
    "deletable": true,
    "editable": true
   },
   "outputs": [
    {
     "name": "stdout",
     "output_type": "stream",
     "text": [
      "number of matches: 2\n"
     ]
    }
   ],
   "source": [
    "def matchPattern(DNA, pattern):\n",
    "    matchCount = 0\n",
    "    for i in range(len(DNA)-len(pattern)+1):\n",
    "        if DNA[i:i+len(pattern)] == pattern:\n",
    "            matchCount+=1\n",
    "    return matchCount\n",
    "\n",
    "DNA = \"GCGCG\"\n",
    "pattern = \"GCG\"\n",
    "print(\"number of matches: \"+str(matchPattern(DNA,pattern)))"
   ]
  },
  {
   "cell_type": "markdown",
   "metadata": {
    "deletable": true,
    "editable": true
   },
   "source": [
    "http://rosalind.info/problems/ba1b/ :: Find the Most Frequent Words in a String"
   ]
  },
  {
   "cell_type": "code",
   "execution_count": 16,
   "metadata": {
    "collapsed": false,
    "deletable": true,
    "editable": true
   },
   "outputs": [
    {
     "name": "stdout",
     "output_type": "stream",
     "text": [
      "Most Frequent K-mers: GCAT CATG\n"
     ]
    }
   ],
   "source": [
    "def matchPattern(DNA, pattern):\n",
    "    matchCount = 0\n",
    "    for i in range(len(DNA)-len(pattern)+1):\n",
    "        if DNA[i:i+len(pattern)] == pattern:\n",
    "            matchCount+=1\n",
    "    return matchCount        \n",
    "\n",
    "def mostFreqKmer(DNA, length):\n",
    "    counts = {}\n",
    "    for i in range(len(DNA)-length+1):\n",
    "        if DNA[i:i+length] not in counts:\n",
    "            counts[DNA[i:i+length]] = matchPattern(DNA,DNA[i:i+length])\n",
    "    out = []\n",
    "    for kmer in counts:\n",
    "        if counts[kmer] == max(counts.values()):\n",
    "            out.append(kmer)\n",
    "    return out\n",
    "DNA = \"ACGTTGCATGTCGCATGATGCATGAGAGCT\"\n",
    "print(\"Most Frequent K-mers: \"+' '.join(mostFreqKmer(DNA,4)))"
   ]
  },
  {
   "cell_type": "code",
   "execution_count": 18,
   "metadata": {
    "collapsed": false,
    "deletable": true,
    "editable": true
   },
   "outputs": [
    {
     "name": "stdout",
     "output_type": "stream",
     "text": [
      "Most Frequent K-mers: GCAT CATG\n"
     ]
    }
   ],
   "source": [
    "#another solution for this problem\n",
    "def frequentWords( s, k ):\n",
    "    counts = {}\n",
    "    for i in range(len(s)-k+1):\n",
    "        if s[i:i+k] not in counts:\n",
    "            counts[s[i:i+k]] = 0\n",
    "        counts[s[i:i+k]] += 1\n",
    "    m = max(counts.values())\n",
    "    out = []\n",
    "    for kmer in counts:\n",
    "        if counts[kmer] == m:\n",
    "            out.append(kmer)\n",
    "    return out\n",
    "\n",
    "s = 'ACGTTGCATGTCGCATGATGCATGAGAGCT'\n",
    "k = 4\n",
    "print(\"Most Frequent K-mers: \"+\" \".join(frequentWords(s,k)))"
   ]
  },
  {
   "cell_type": "markdown",
   "metadata": {
    "deletable": true,
    "editable": true
   },
   "source": [
    "http://rosalind.info/problems/ba1c/ :: \tFind the Reverse Complement of a String"
   ]
  },
  {
   "cell_type": "code",
   "execution_count": 23,
   "metadata": {
    "collapsed": false,
    "deletable": true,
    "editable": true
   },
   "outputs": [
    {
     "name": "stdout",
     "output_type": "stream",
     "text": [
      "ACCGGGTTTT\n"
     ]
    }
   ],
   "source": [
    "from Bio.Seq import reverse_complement\n",
    "\n",
    "def reverseComplement(DNA):\n",
    "    seq = reverse_complement(DNA)\n",
    "    return seq\n",
    "\n",
    "print(reverseComplement(\"AAAACCCGGT\"))"
   ]
  },
  {
   "cell_type": "markdown",
   "metadata": {
    "deletable": true,
    "editable": true
   },
   "source": [
    "http://rosalind.info/problems/ba1d/ :: Find All Occurrences of a Pattern in a String"
   ]
  },
  {
   "cell_type": "code",
   "execution_count": 28,
   "metadata": {
    "collapsed": false,
    "deletable": true,
    "editable": true
   },
   "outputs": [
    {
     "name": "stdout",
     "output_type": "stream",
     "text": [
      "1 3 9\n"
     ]
    }
   ],
   "source": [
    "def findOccurances(pattern, DNA):\n",
    "    out = []\n",
    "    for i in range(len(DNA)-len(pattern)+1):\n",
    "        if DNA[i:i+len(pattern)] == pattern:\n",
    "            out.append(str(i))\n",
    "    return out\n",
    "print(' '.join(findOccurances(\"ATAT\", \"GATATATGCATATACTT\")))"
   ]
  },
  {
   "cell_type": "markdown",
   "metadata": {
    "deletable": true,
    "editable": true
   },
   "source": [
    "http://rosalind.info/problems/ba1e/ :: Find Patterns Forming Clumps in a String"
   ]
  },
  {
   "cell_type": "code",
   "execution_count": 9,
   "metadata": {
    "collapsed": false,
    "deletable": true,
    "editable": true
   },
   "outputs": [
    {
     "name": "stdout",
     "output_type": "stream",
     "text": [
      "CGACA GAAGA AATGT\n"
     ]
    }
   ],
   "source": [
    "def matchPattern(DNA, pattern):\n",
    "    matchCount = 0\n",
    "    for i in range(len(DNA)-len(pattern)+1):\n",
    "        if DNA[i:i+len(pattern)] == pattern:\n",
    "            matchCount+=1\n",
    "    return matchCount\n",
    "\n",
    "def findClumpPattern(DNA, k, L, t):\n",
    "    out = []\n",
    "    for i in range(len(DNA)-L+1):\n",
    "        for j in range(i,i+L-k+1):\n",
    "            if matchPattern(DNA[i:i+L],DNA[j:j+k]) >= t:\n",
    "                if DNA[j:j+k] not in out:\n",
    "                    out.append(DNA[j:j+k])\n",
    "    return out\n",
    "\n",
    "DNA = \"CGGACTCGACAGATGTGAAGAAATGTGAAGACTGAGTGAAGAGAAGAGGAAACACGACACGACATTGCGACATAATGTACGAATGTAATGTGCCTATGGC\"\n",
    "print(\" \".join(findClumpPattern(DNA, 5, 75, 4)))"
   ]
  },
  {
   "cell_type": "markdown",
   "metadata": {
    "deletable": true,
    "editable": true
   },
   "source": [
    "http://rosalind.info/problems/ba1f/ :: Find a Position in a Genome Minimizing the Skew"
   ]
  },
  {
   "cell_type": "code",
   "execution_count": 4,
   "metadata": {
    "collapsed": false,
    "deletable": true,
    "editable": true
   },
   "outputs": [
    {
     "name": "stdout",
     "output_type": "stream",
     "text": [
      "53 97\n"
     ]
    }
   ],
   "source": [
    "def findSkew(DNA):\n",
    "    skew = []\n",
    "    temp = 0\n",
    "    for ch in DNA:\n",
    "        skew.append(temp)\n",
    "        if ch == 'G':\n",
    "            temp += 1\n",
    "        elif ch == 'C':\n",
    "            temp -= 1\n",
    "    skew.append(temp)\n",
    "    return skew\n",
    "\n",
    "def minimumSkew(DNA):\n",
    "    skew = findSkew(DNA)\n",
    "    minimum = min(skew)\n",
    "    out = []\n",
    "    for i in range(len(skew)-1):\n",
    "        if skew[i] == minimum:\n",
    "            out.append(str(i))\n",
    "    return out\n",
    "\n",
    "print(\" \".join(minimumSkew(\"CCTATCGGTGGATTAGCATGTCCCTGTACGTTTCGCCGCGAACTAGTTCACACGGCTTGATGGCAAATGGTTTTTCCGGCGACCGTAATCGTCCACCGAG\")))"
   ]
  },
  {
   "cell_type": "markdown",
   "metadata": {
    "deletable": true,
    "editable": true
   },
   "source": [
    "http://rosalind.info/problems/ba1g/ :: Compute the Hamming Distance Between Two Strings"
   ]
  },
  {
   "cell_type": "code",
   "execution_count": 17,
   "metadata": {
    "collapsed": false,
    "deletable": true,
    "editable": true
   },
   "outputs": [
    {
     "name": "stdout",
     "output_type": "stream",
     "text": [
      "3\n"
     ]
    }
   ],
   "source": [
    "def HammingDistance(string1, string2):\n",
    "    if len(string1) != len(string2):\n",
    "        print(\"Error: lengths are not equal\")\n",
    "        return \n",
    "    return sum(ch1 != ch2 for ch1, ch2 in zip(string1,string2))\n",
    "print(HammingDistance(\"GGGCCGTTGGT\",\"GGACCGTTGAC\"))"
   ]
  },
  {
   "cell_type": "markdown",
   "metadata": {
    "deletable": true,
    "editable": true
   },
   "source": [
    "http://rosalind.info/problems/ba1h/ :: Find All Approximate Occurrences of a Pattern in a String"
   ]
  },
  {
   "cell_type": "code",
   "execution_count": 21,
   "metadata": {
    "collapsed": false,
    "deletable": true,
    "editable": true
   },
   "outputs": [
    {
     "name": "stdout",
     "output_type": "stream",
     "text": [
      "6 7 26 27 78\n"
     ]
    }
   ],
   "source": [
    "def HammingDistance(string1, string2): \n",
    "    return sum(ch1 != ch2 for ch1, ch2 in zip(string1,string2))\n",
    "\n",
    "def findOccurancesWithMismatch(pattern, DNA, d):\n",
    "    out = []\n",
    "    for i in range(len(DNA)-len(pattern)+1):\n",
    "        if HammingDistance(DNA[i:i+len(pattern)],pattern) <= d:\n",
    "            out.append(str(i))\n",
    "    return out\n",
    "\n",
    "print(\" \".join(findOccurancesWithMismatch(\"ATTCTGGA\",\"CGCCCGAATCCAGAACGCATTCCCATATTTCGGGACCACTGGCCTCCACGGTACGGACGTCAATCAAATGCCTAGCGGCTTGTGGTTTCTCCTACGCTCC\",3)))"
   ]
  },
  {
   "cell_type": "markdown",
   "metadata": {
    "deletable": true,
    "editable": true
   },
   "source": [
    "http://rosalind.info/problems/ba1i/ :: Find the Most Frequent Words with Mismatches in a String"
   ]
  },
  {
   "cell_type": "code",
   "execution_count": 24,
   "metadata": {
    "collapsed": false,
    "deletable": true,
    "editable": true
   },
   "outputs": [
    {
     "name": "stdout",
     "output_type": "stream",
     "text": [
      "ATGT GATG ATGC\n"
     ]
    }
   ],
   "source": [
    "def HammingDistance(string1, string2): \n",
    "    return sum(ch1 != ch2 for ch1, ch2 in zip(string1,string2))\n",
    "\n",
    "def matchPatternWithMismatch(DNA, pattern, d):\n",
    "    matchCount = 0\n",
    "    for i in range(len(DNA)-len(pattern)+1):\n",
    "        if HammingDistance(DNA[i:i+len(pattern)], pattern) <= d:\n",
    "            matchCount+=1 \n",
    "    return matchCount\n",
    "\n",
    "def mostFreqKmerWithMismatch(DNA, length, d):\n",
    "    counts = {}\n",
    "    for i in range(len(DNA)-length+1):\n",
    "        if DNA[i:i+length] not in counts:\n",
    "            counts[DNA[i:i+length]] = matchPatternWithMismatch(DNA, DNA[i:i+length], d)\n",
    "    out = []\n",
    "    for kmer in counts:\n",
    "        if counts[kmer] == max(counts.values()):\n",
    "            out.append(kmer)\n",
    "    return out\n",
    "\n",
    "print(\" \".join(mostFreqKmerWithMismatch(\"ACGTTGCATGTCGCATGATGCATGAGAGCT\",4,1)))"
   ]
  },
  {
   "cell_type": "markdown",
   "metadata": {
    "deletable": true,
    "editable": true
   },
   "source": [
    "http://rosalind.info/problems/ba1j/ :: Find Frequent Words with Mismatches and Reverse Complements"
   ]
  },
  {
   "cell_type": "code",
   "execution_count": 26,
   "metadata": {
    "collapsed": false,
    "deletable": true,
    "editable": true
   },
   "outputs": [
    {
     "name": "stdout",
     "output_type": "stream",
     "text": [
      "ATGT ACAT\n"
     ]
    }
   ],
   "source": [
    "from Bio.Seq import reverse_complement\n",
    "\n",
    "def HammingDistance(string1, string2): \n",
    "    return sum(ch1 != ch2 for ch1, ch2 in zip(string1,string2))\n",
    "\n",
    "def matchPatternWithMismatch(DNA, pattern, d):\n",
    "    matchCount = 0\n",
    "    for i in range(len(DNA)-len(pattern)+1):\n",
    "        if HammingDistance(DNA[i:i+len(pattern)], pattern) <= d:\n",
    "            matchCount+=1 \n",
    "    return matchCount\n",
    "\n",
    "def mostFreqKmerWithMismatch(DNA, length, d):\n",
    "    counts = {}\n",
    "    for i in range(len(DNA)-length+1):\n",
    "        if DNA[i:i+length] not in counts:\n",
    "            counts[DNA[i:i+length]] = matchPatternWithMismatch(DNA, DNA[i:i+length], d)\n",
    "    out = []\n",
    "    for kmer in counts:\n",
    "        if counts[kmer] == max(counts.values()):\n",
    "            out.append(kmer)\n",
    "    return out\n",
    "\n",
    "def mostFreqKmerWithMismatchAndReverseComplement(DNA, k, d):\n",
    "    seq = reverse_complement(DNA)\n",
    "    return mostFreqKmerWithMismatch(DNA+seq, k, d)\n",
    "\n",
    "DNA = \"ACGTTGCATGTCGCATGATGCATGAGAGCT\"\n",
    "print(' '.join(mostFreqKmerWithMismatchAndReverseComplement(DNA,4,1)))"
   ]
  },
  {
   "cell_type": "markdown",
   "metadata": {
    "deletable": true,
    "editable": true
   },
   "source": [
    "http://rosalind.info/problems/ba1k/ :: Generate the Frequency Array of a String"
   ]
  },
  {
   "cell_type": "code",
   "execution_count": 47,
   "metadata": {
    "collapsed": false,
    "deletable": true,
    "editable": true
   },
   "outputs": [
    {
     "name": "stdout",
     "output_type": "stream",
     "text": [
      "2 1 0 0 0 0 2 2 1 2 1 0 0 1 1 0\n"
     ]
    }
   ],
   "source": [
    "def AllCombination(k):\n",
    "    dic = dicAdd = [\"A\",\"T\",\"G\",\"C\"]\n",
    "    for i in range(k-1):\n",
    "        temp = []\n",
    "        for ch in dicAdd:\n",
    "            for ch1 in dic:\n",
    "                temp.append(ch+ch1)\n",
    "        dic = temp\n",
    "    return dic\n",
    "\n",
    "def matchPattern(DNA, pattern):\n",
    "    matchCount = 0\n",
    "    for i in range(len(DNA)-len(pattern)+1):\n",
    "        if DNA[i:i+len(pattern)] == pattern:\n",
    "            matchCount+=1\n",
    "    return matchCount\n",
    "\n",
    "def FreqArray(DNA, k):\n",
    "    out = []\n",
    "    dataSet = AllCombination(k)\n",
    "    for data in sorted(dataSet):\n",
    "        out.append(str(matchPattern(DNA,data)))\n",
    "    return out\n",
    "\n",
    "print(\" \".join(FreqArray(\"ACGCGGCTCTGAAA\",2)))"
   ]
  },
  {
   "cell_type": "markdown",
   "metadata": {
    "deletable": true,
    "editable": true
   },
   "source": [
    "http://rosalind.info/problems/ba1l/ :: Implement PatternToNumber"
   ]
  },
  {
   "cell_type": "code",
   "execution_count": 48,
   "metadata": {
    "collapsed": true,
    "deletable": true,
    "editable": true
   },
   "outputs": [],
   "source": [
    "#This problem is not described well or out of our context :( sorry"
   ]
  },
  {
   "cell_type": "markdown",
   "metadata": {
    "deletable": true,
    "editable": true
   },
   "source": [
    "http://rosalind.info/problems/ba1m/ :: Implement NumberToPattern"
   ]
  },
  {
   "cell_type": "code",
   "execution_count": 49,
   "metadata": {
    "collapsed": true,
    "deletable": true,
    "editable": true
   },
   "outputs": [],
   "source": [
    "#This problem is not described well or out of our context :( sorry"
   ]
  },
  {
   "cell_type": "markdown",
   "metadata": {
    "deletable": true,
    "editable": true
   },
   "source": [
    "http://rosalind.info/problems/ba1n/ :: Generate the d-Neighborhood of a String"
   ]
  },
  {
   "cell_type": "code",
   "execution_count": 61,
   "metadata": {
    "collapsed": false,
    "deletable": true,
    "editable": true
   },
   "outputs": [
    {
     "name": "stdout",
     "output_type": "stream",
     "text": [
      "AAG\n",
      "ATG\n",
      "AGG\n",
      "ACA\n",
      "ACT\n",
      "ACG\n",
      "ACC\n",
      "TCG\n",
      "GCG\n",
      "CCG\n"
     ]
    }
   ],
   "source": [
    "def AllCombination(k):\n",
    "    dic = dicAdd = [\"A\",\"T\",\"G\",\"C\"]\n",
    "    for i in range(k-1):\n",
    "        temp = []\n",
    "        for ch in dicAdd:\n",
    "            for ch1 in dic:\n",
    "                temp.append(ch+ch1)\n",
    "        dic = temp\n",
    "    return dic\n",
    "\n",
    "def HammingDistance(string1, string2): \n",
    "    return sum(ch1 != ch2 for ch1, ch2 in zip(string1,string2))\n",
    "\n",
    "def Neighbors(pattern, d):\n",
    "    out = []\n",
    "    dataSet = AllCombination(len(pattern))\n",
    "    for data in dataSet:\n",
    "        if HammingDistance(data,pattern) <= d:\n",
    "            out.append(data)\n",
    "    return out\n",
    "print(\"\\n\".join(Neighbors(\"ACG\",1)))"
   ]
  }
 ],
 "metadata": {
  "kernelspec": {
   "display_name": "Python 2",
   "language": "python",
   "name": "python2"
  },
  "language_info": {
   "codemirror_mode": {
    "name": "ipython",
    "version": 2
   },
   "file_extension": ".py",
   "mimetype": "text/x-python",
   "name": "python",
   "nbconvert_exporter": "python",
   "pygments_lexer": "ipython2",
   "version": "2.7.12"
  }
 },
 "nbformat": 4,
 "nbformat_minor": 2
}
