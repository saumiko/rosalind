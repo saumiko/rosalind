{
 "cells": [
  {
   "cell_type": "markdown",
   "metadata": {},
   "source": [
    "# Chapter 2"
   ]
  },
  {
   "cell_type": "markdown",
   "metadata": {},
   "source": [
    "BA2A: Implement MotifEnumeration"
   ]
  },
  {
   "cell_type": "code",
   "execution_count": null,
   "metadata": {
    "collapsed": true
   },
   "outputs": [],
   "source": []
  },
  {
   "cell_type": "markdown",
   "metadata": {},
   "source": [
    "BA2B: Find a Median String"
   ]
  },
  {
   "cell_type": "code",
   "execution_count": 15,
   "metadata": {
    "collapsed": false
   },
   "outputs": [
    {
     "name": "stdout",
     "output_type": "stream",
     "text": [
      "ACG\n",
      "GAC\n"
     ]
    }
   ],
   "source": [
    "from itertools import product\n",
    "\n",
    "def hammingDistance(seq1,seq2):\n",
    "    cnt = 0\n",
    "    for i in range (len(seq1)):\n",
    "        if seq1[i] != seq2[i]:\n",
    "            cnt = cnt + 1\n",
    "    return cnt\n",
    "\n",
    "def PatternCount(Text, Pattern):\n",
    "    count = 0\n",
    "    length = len(Pattern)\n",
    "    mn = 9999\n",
    "    for i in range (len(Text)-len(Pattern)+1):\n",
    "        str = Text[i:i+length]\n",
    "        if hammingDistance(str,Pattern)<mn:\n",
    "            mn = hammingDistance(str,Pattern)\n",
    "    return mn\n",
    "\n",
    "def MedianString(Pattern, DNA):\n",
    "    kmers = {}\n",
    "    patterns = [''.join(i) for i in product(\"ATGC\", repeat = Pattern)]\n",
    "    for pattern in patterns:\n",
    "        patternSum = 0\n",
    "        for dna in DNA:\n",
    "            patternSum += PatternCount(dna,pattern)\n",
    "        kmers[pattern] = patternSum\n",
    "    k = kmers.values()\n",
    "    result = min(k)\n",
    "    for kmer, val in kmers.iteritems():\n",
    "        if val == result:\n",
    "            print kmer\n",
    "    \n",
    "DNA = [\"AAATTGACGCAT\",\"GACGACCACGTT\",\"CGTCAGCGCCTG\",\"GCTGAGCACCGG\",\"AGTACGGGACAG\"]\n",
    "MedianString(3,DNA)"
   ]
  },
  {
   "cell_type": "markdown",
   "metadata": {},
   "source": [
    "BA2C: Find a Profile-most Probable k-mer in a String"
   ]
  },
  {
   "cell_type": "code",
   "execution_count": 17,
   "metadata": {
    "collapsed": false
   },
   "outputs": [
    {
     "name": "stdout",
     "output_type": "stream",
     "text": [
      "CCGAG\n"
     ]
    }
   ],
   "source": [
    "def ProfileMostProbableKmer(DNA, k, profile):\n",
    "    tempMax=-1\n",
    "    num=-1\n",
    "    tempRes=\"\"\n",
    "    finalResult=\"\"\n",
    "    for i in range(len(DNA)-k):\n",
    "        for j in range(k):\n",
    "            c=DNA[i+j]\n",
    "            if c=='A':\n",
    "                tempMax=tempMax+profile[0][j]\n",
    "                tempRes= tempRes+c\n",
    "            elif c=='C':\n",
    "                tempMax=tempMax+profile[1][j]\n",
    "                tempRes=tempRes+c\n",
    "            elif c=='G':\n",
    "                tempMax=tempMax+profile[2][j]\n",
    "                tempRes=tempRes+c\n",
    "            elif c=='T':\n",
    "                tempMax=tempMax+profile[3][j]\n",
    "                tempRes=tempRes+c\n",
    "        if(tempMax>num):\n",
    "            num=tempMax\n",
    "            finalResult=tempRes\n",
    "            tempRes=\"\"\n",
    "            tempMax=-1\n",
    "        else:\n",
    "            tempMax=-1\n",
    "            tempRes=\"\"\n",
    "    print(finalResult)\n",
    "\n",
    "DNA=\"ACCTGTTTATTGCCTAAGTTCCGAACAAACCCAATATAGCCCGAGGGCCT\"\n",
    "k=5\n",
    "profile = [\n",
    "    [0.2, 0.2, 0.3, 0.2, 0.3],\n",
    "    [0.4, 0.3, 0.1, 0.5, 0.1],\n",
    "    [0.3, 0.3, 0.5, 0.2, 0.4],\n",
    "    [0.1, 0.2, 0.1, 0.1, 0.2]\n",
    "]\n",
    "ProfileMostProbableKmer(DNA, k, profile)"
   ]
  },
  {
   "cell_type": "code",
   "execution_count": null,
   "metadata": {
    "collapsed": true
   },
   "outputs": [],
   "source": []
  }
 ],
 "metadata": {
  "kernelspec": {
   "display_name": "Python 2",
   "language": "python",
   "name": "python2"
  },
  "language_info": {
   "codemirror_mode": {
    "name": "ipython",
    "version": 2
   },
   "file_extension": ".py",
   "mimetype": "text/x-python",
   "name": "python",
   "nbconvert_exporter": "python",
   "pygments_lexer": "ipython2",
   "version": "2.7.12"
  }
 },
 "nbformat": 4,
 "nbformat_minor": 2
}
