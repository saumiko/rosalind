{
 "cells": [
  {
   "cell_type": "markdown",
   "metadata": {},
   "source": [
    "# Chapter 4"
   ]
  },
  {
   "cell_type": "markdown",
   "metadata": {},
   "source": [
    "BA4A: Translate an RNA String into an Amino Acid String"
   ]
  },
  {
   "cell_type": "code",
   "execution_count": 4,
   "metadata": {
    "collapsed": false
   },
   "outputs": [
    {
     "name": "stdout",
     "output_type": "stream",
     "text": [
      "MAMAPRTEINSTRING*\n"
     ]
    }
   ],
   "source": [
    "from Bio.Seq import Seq\n",
    "from Bio.Alphabet import generic_rna\n",
    "\n",
    "def translate(RNA):\n",
    "    messenger_rna = Seq(RNA, generic_rna)\n",
    "    print messenger_rna.translate()\n",
    "    \n",
    "translate(\"AUGGCCAUGGCGCCCAGAACUGAGAUCAAUAGUACCCGUAUUAACGGGUGA\")"
   ]
  },
  {
   "cell_type": "markdown",
   "metadata": {},
   "source": [
    "BA4B: "
   ]
  },
  {
   "cell_type": "code",
   "execution_count": 23,
   "metadata": {
    "collapsed": false
   },
   "outputs": [
    {
     "name": "stdout",
     "output_type": "stream",
     "text": [
      "ATGGCC\n",
      "GGCCAT\n"
     ]
    }
   ],
   "source": [
    "import re\n",
    "from Bio.Seq import Seq\n",
    "from Bio.Alphabet import generic_dna\n",
    "\n",
    "def translate(dna):\n",
    "    coding_dna = Seq(dna, generic_dna)\n",
    "    return coding_dna.translate()\n",
    "\n",
    "def match(aminoacid, inaminoacid):\n",
    "    occurances = [m.start() for m in re.finditer(inaminoacid, aminoacid)]\n",
    "    return occurances\n",
    "\n",
    "def revseq(aminoacid, DNA, occurances):\n",
    "    seqlen = len(aminoacid) * 3\n",
    "    for i in occurances:\n",
    "        print DNA[i:i+seqlen]\n",
    "\n",
    "dna = \"ATGGCCATGGCCCCCAGAACTGAGATCAATAGTACCCGTATTAACGGGTGA\"\n",
    "inaminoacid = \"MA\"\n",
    "aminoacid = translate(dna)\n",
    "revseq(inaminoacid, dna, match(str(aminoacid), inaminoacid))"
   ]
  }
 ],
 "metadata": {
  "kernelspec": {
   "display_name": "Python 2",
   "language": "python",
   "name": "python2"
  },
  "language_info": {
   "codemirror_mode": {
    "name": "ipython",
    "version": 2
   },
   "file_extension": ".py",
   "mimetype": "text/x-python",
   "name": "python",
   "nbconvert_exporter": "python",
   "pygments_lexer": "ipython2",
   "version": "2.7.12"
  }
 },
 "nbformat": 4,
 "nbformat_minor": 2
}
