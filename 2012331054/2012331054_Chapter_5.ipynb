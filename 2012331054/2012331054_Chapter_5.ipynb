{
 "cells": [
  {
   "cell_type": "markdown",
   "metadata": {
    "collapsed": true,
    "deletable": true,
    "editable": true
   },
   "source": [
    "# Chapter 5"
   ]
  },
  {
   "cell_type": "markdown",
   "metadata": {
    "deletable": true,
    "editable": true
   },
   "source": [
    "BA5A: Find the Minimum Number of Coins Needed to Make Change"
   ]
  },
  {
   "cell_type": "code",
   "execution_count": 2,
   "metadata": {
    "collapsed": false,
    "deletable": true,
    "editable": true
   },
   "outputs": [
    {
     "name": "stdout",
     "output_type": "stream",
     "text": [
      "2\n"
     ]
    }
   ],
   "source": [
    "def coinChange(money,coins):\n",
    "    minCoins = []\n",
    "    minCoins.append(0)\n",
    "    for m in range(1,money+1):\n",
    "        minCoins.append(2000)\n",
    "        for i in range(0,len(coins)):\n",
    "            if m>=coins[i]:\n",
    "                if minCoins[m-coins[i]]+1 < minCoins[m]:\n",
    "                    minCoins[m] = minCoins[m-coins[i]] + 1\n",
    "    print minCoins[money]\n",
    "\n",
    "money = 40\n",
    "coins = [1,5,10,20,25,50]\n",
    "coinChange(money,coins)"
   ]
  },
  {
   "cell_type": "markdown",
   "metadata": {
    "deletable": true,
    "editable": true
   },
   "source": [
    "BA5B: Find the Length of a Longest Path in a Manhattan-like Grid"
   ]
  },
  {
   "cell_type": "code",
   "execution_count": 4,
   "metadata": {
    "collapsed": false,
    "deletable": true,
    "editable": true
   },
   "outputs": [
    {
     "name": "stdout",
     "output_type": "stream",
     "text": [
      "34\n"
     ]
    }
   ],
   "source": [
    "def FindLongestPath(n, m, down, right):\n",
    "    s = [[0 for x in range(m+1)] for y in range(n+1)] \n",
    "    for i in range(1,n+1):\n",
    "        s[i][0] = s[i-1][0] + down[i-1][0]\n",
    "    for i in range(1,m+1):\n",
    "        s[0][i] = s[0][i-1] + right[0][i-1]\n",
    "    for i in range(1,n+1):\n",
    "        for j in range(1,m+1):\n",
    "            s[i][j] = max(s[i-1][j]+down[i-1][j],s[i][j-1]+right[i][j-1])\n",
    "    print s[n][m]\n",
    "    \n",
    "n = 4\n",
    "m = 4\n",
    "down = [[1, 0, 2, 4, 3],[4, 6, 5, 2, 1],[4, 4, 5, 2, 1],[5, 6, 8, 5, 3]]\n",
    "right = [[3, 2, 4, 0],[3, 2, 4, 2],[0, 7, 3, 3],[3, 3, 0, 2],[1, 3, 2, 2]]\n",
    "FindLongestPath(n, m, down, right)"
   ]
  },
  {
   "cell_type": "markdown",
   "metadata": {
    "deletable": true,
    "editable": true
   },
   "source": [
    "BA5C: Find a Longest Common Subsequence of Two Strings"
   ]
  },
  {
   "cell_type": "code",
   "execution_count": 5,
   "metadata": {
    "collapsed": false,
    "deletable": true,
    "editable": true
   },
   "outputs": [
    {
     "name": "stdout",
     "output_type": "stream",
     "text": [
      "AACTGG\n"
     ]
    }
   ],
   "source": [
    "import py_common_subseq\n",
    "\n",
    "def lcs(dna1, dna2):\n",
    "    subseqs = py_common_subseq.find_common_subsequences(dna1, dna2)\n",
    "    maxlen = 0\n",
    "    maxseq = \"\"\n",
    "    for seq in subseqs:\n",
    "        if len(seq)>maxlen:\n",
    "            maxlen = len(seq)\n",
    "            maxseq = seq\n",
    "    print maxseq\n",
    "\n",
    "lcs(\"AACCTTGG\",\"ACACTGTGA\")"
   ]
  },
  {
   "cell_type": "markdown",
   "metadata": {
    "deletable": true,
    "editable": true
   },
   "source": [
    "BA5D: Find the Longest Path in a DAG"
   ]
  },
  {
   "cell_type": "code",
   "execution_count": null,
   "metadata": {
    "collapsed": false,
    "deletable": true,
    "editable": true
   },
   "outputs": [],
   "source": []
  },
  {
   "cell_type": "markdown",
   "metadata": {
    "deletable": true,
    "editable": true
   },
   "source": [
    "BA5E: Find a Highest-Scoring Alignment of Two Strings"
   ]
  },
  {
   "cell_type": "code",
   "execution_count": 7,
   "metadata": {
    "collapsed": false,
    "deletable": true,
    "editable": true
   },
   "outputs": [
    {
     "name": "stdout",
     "output_type": "stream",
     "text": [
      "8\n",
      "PLEASANTLY\n",
      "-MEA--N-LY\n"
     ]
    }
   ],
   "source": [
    "from Bio import pairwise2\n",
    "from Bio.SubsMat import MatrixInfo as matlist\n",
    "\n",
    "def globalAlign(dna1, dna2):\n",
    "    matrix = matlist.blosum62\n",
    "    for a in pairwise2.align.globaldx(dna1, dna2, matrix):\n",
    "        alignment = a\n",
    "    str1 = alignment[0]\n",
    "    str2 = alignment[1]\n",
    "    score = alignment[2]\n",
    "    for i in range (len(str1)):\n",
    "        if str1[i] == '-':\n",
    "            score -= 5\n",
    "        elif str2[i] == '-':\n",
    "            score -= 5\n",
    "    print int(score)\n",
    "    print str1\n",
    "    print str2\n",
    "    \n",
    "globalAlign(\"PLEASANTLY\", \"MEANLY\")"
   ]
  },
  {
   "cell_type": "markdown",
   "metadata": {
    "deletable": true,
    "editable": true
   },
   "source": [
    "BA5F: Find a Highest-Scoring Local Alignment of Two Strings"
   ]
  },
  {
   "cell_type": "code",
   "execution_count": null,
   "metadata": {
    "collapsed": true,
    "deletable": true,
    "editable": true
   },
   "outputs": [],
   "source": []
  },
  {
   "cell_type": "markdown",
   "metadata": {
    "deletable": true,
    "editable": true
   },
   "source": [
    "BA5G: Compute the Edit Distance Between Two Strings"
   ]
  },
  {
   "cell_type": "code",
   "execution_count": 8,
   "metadata": {
    "collapsed": false,
    "deletable": true,
    "editable": true
   },
   "outputs": [
    {
     "name": "stdout",
     "output_type": "stream",
     "text": [
      "5\n"
     ]
    }
   ],
   "source": [
    "def editdis(str1, str2):\n",
    "    m = len(str1)\n",
    "    n = len(str2)\n",
    "    dp = [[0 for x in range(n+1)] for x in range(m+1)]\n",
    "    for i in range(m+1):\n",
    "        for j in range(n+1):\n",
    "            if i == 0:\n",
    "                dp[i][j] = j    \n",
    "            elif j == 0:\n",
    "                dp[i][j] = i   \n",
    "            elif str1[i-1] == str2[j-1]:\n",
    "                dp[i][j] = dp[i-1][j-1]\n",
    "            else:\n",
    "                dp[i][j] = 1 + min(dp[i][j-1],        \n",
    "                                   dp[i-1][j],        \n",
    "                                   dp[i-1][j-1])    \n",
    " \n",
    "    print dp[m][n]\n",
    "\n",
    "s1 = \"PLEASANTLY\"\n",
    "s2 = \"MEANLY\"\n",
    "editdis(s1,s2)"
   ]
  },
  {
   "cell_type": "markdown",
   "metadata": {
    "deletable": true,
    "editable": true
   },
   "source": [
    "BA5H: Find a Highest-Scoring Fitting Alignment of Two Strings"
   ]
  },
  {
   "cell_type": "code",
   "execution_count": 10,
   "metadata": {
    "collapsed": false,
    "deletable": true,
    "editable": true
   },
   "outputs": [
    {
     "name": "stdout",
     "output_type": "stream",
     "text": [
      "2\n"
     ]
    }
   ],
   "source": [
    "def FittingAlignment(s, t):\n",
    "    score = [[0 for i in range(len(t)+1)] for j in range(len(s)+1)]\n",
    "    for i in range(1,len(s)+1):\n",
    "        for j in range(1,len(t)+1):\n",
    "            op1 = score[i-1][j] - 1\n",
    "            op2 = score[i][j-1] - 1\n",
    "            op3 = score[i-1][j-1]\n",
    "            if s[i-1]==t[j-1]:\n",
    "                op3+=1\n",
    "            else:\n",
    "                op3-=1\n",
    "            score[i][j] = max(op1,op2,op3)\n",
    "    mx = -1000\n",
    "    j = len(t)\n",
    "    for i in range(len(t),len(s)):\n",
    "        if score[i][j]>=mx:\n",
    "            mx = score[i][j]\n",
    "    print mx\n",
    "    \n",
    "str1 = \"GTAGGCTTAAGGTTA\" \n",
    "str2 = \"TAGATA\"\n",
    "FittingAlignment(str1, str2)"
   ]
  },
  {
   "cell_type": "markdown",
   "metadata": {
    "deletable": true,
    "editable": true
   },
   "source": [
    "BA5I: Find a Highest-Scoring Overlap Alignment of Two Strings"
   ]
  },
  {
   "cell_type": "code",
   "execution_count": null,
   "metadata": {
    "collapsed": true,
    "deletable": true,
    "editable": true
   },
   "outputs": [],
   "source": []
  },
  {
   "cell_type": "code",
   "execution_count": null,
   "metadata": {
    "collapsed": true,
    "deletable": true,
    "editable": true
   },
   "outputs": [],
   "source": []
  }
 ],
 "metadata": {
  "kernelspec": {
   "display_name": "Python 2",
   "language": "python",
   "name": "python2"
  },
  "language_info": {
   "codemirror_mode": {
    "name": "ipython",
    "version": 2
   },
   "file_extension": ".py",
   "mimetype": "text/x-python",
   "name": "python",
   "nbconvert_exporter": "python",
   "pygments_lexer": "ipython2",
   "version": "2.7.12"
  }
 },
 "nbformat": 4,
 "nbformat_minor": 2
}
