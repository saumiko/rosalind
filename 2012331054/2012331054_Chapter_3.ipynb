{
 "cells": [
  {
   "cell_type": "markdown",
   "metadata": {
    "deletable": true,
    "editable": true
   },
   "source": [
    "# Chapter 3"
   ]
  },
  {
   "cell_type": "markdown",
   "metadata": {
    "deletable": true,
    "editable": true
   },
   "source": [
    "BA3A: Generate the k-mer Composition of a String"
   ]
  },
  {
   "cell_type": "code",
   "execution_count": 6,
   "metadata": {
    "collapsed": false,
    "deletable": true,
    "editable": true
   },
   "outputs": [
    {
     "name": "stdout",
     "output_type": "stream",
     "text": [
      "AATCC\n",
      "ATCCA\n",
      "CAATC\n",
      "CCAAC\n",
      "TCCAA\n"
     ]
    }
   ],
   "source": [
    "def Composition(k, DNA):\n",
    "    kmer = []\n",
    "    for i in range(len(DNA)-k+1):\n",
    "        kmer.append(DNA[i:i+k])\n",
    "    kmer.sort()\n",
    "    for text in kmer:\n",
    "        print text\n",
    "\n",
    "k = 5\n",
    "DNA = \"CAATCCAAC\"\n",
    "Composition(k, DNA)"
   ]
  },
  {
   "cell_type": "markdown",
   "metadata": {
    "deletable": true,
    "editable": true
   },
   "source": [
    "BA3B: Reconstruct a String from its Genome Path"
   ]
  },
  {
   "cell_type": "code",
   "execution_count": 15,
   "metadata": {
    "collapsed": false,
    "deletable": true,
    "editable": true
   },
   "outputs": [
    {
     "name": "stdout",
     "output_type": "stream",
     "text": [
      "ACCGAAGCT\n"
     ]
    }
   ],
   "source": [
    "def Reconstruct(Path):\n",
    "    Genome = \"\"\n",
    "    for i in range(len(Path)):\n",
    "        if i == 0:\n",
    "            Genome = Genome + Path[i]\n",
    "        else:\n",
    "            Genome = Genome + Path[i][len(Path[i])-1:len(Path[i])]\n",
    "    print Genome\n",
    "\n",
    "Path = [\"ACCGA\", \"CCGAA\", \"CGAAG\", \"GAAGC\", \"AAGCT\"]\n",
    "Reconstruct(Path)"
   ]
  },
  {
   "cell_type": "markdown",
   "metadata": {
    "deletable": true,
    "editable": true
   },
   "source": [
    "BA3C: Construct the Overlap Graph of a Collection of k-mers"
   ]
  },
  {
   "cell_type": "code",
   "execution_count": 23,
   "metadata": {
    "collapsed": false,
    "deletable": true,
    "editable": true
   },
   "outputs": [
    {
     "name": "stdout",
     "output_type": "stream",
     "text": [
      "AGGCA->GGCAT\n",
      "CATGC->ATGCG\n",
      "GCATG->CATGC\n",
      "GGCAT->GCATG\n"
     ]
    }
   ],
   "source": [
    "def OverlapGraph(kmers):\n",
    "    kmers.sort()\n",
    "    prefix = []\n",
    "    suffix = []\n",
    "    for kmer in kmers:\n",
    "        prefix.append(kmer[0:len(kmer)-1])\n",
    "        suffix.append(kmer[1:len(kmer)])\n",
    "    for i in range(len(suffix)):\n",
    "        for j in range(len(prefix)):\n",
    "            if suffix[i] == prefix[j]:\n",
    "                print kmers[i]+\"->\"+kmers[j]\n",
    "                \n",
    "    \n",
    "kmers = [\"ATGCG\",\"GCATG\",\"CATGC\",\"AGGCA\",\"GGCAT\"]\n",
    "OverlapGraph(kmers)"
   ]
  },
  {
   "cell_type": "markdown",
   "metadata": {
    "deletable": true,
    "editable": true
   },
   "source": [
    "BA3D: Construct the De Bruijn Graph of a String"
   ]
  },
  {
   "cell_type": "code",
   "execution_count": 44,
   "metadata": {
    "collapsed": false,
    "deletable": true,
    "editable": true
   },
   "outputs": [
    {
     "name": "stdout",
     "output_type": "stream",
     "text": [
      "AAG-> AGA  \n",
      "AGA-> GAT  \n",
      "ATT-> TTC  \n",
      "CTA-> TAC  \n",
      "CTC-> TCT  \n",
      "GAT-> ATT  \n",
      "TCT-> CTA CTC  \n",
      "TTC-> TCT  \n"
     ]
    }
   ],
   "source": [
    "def Composition(k, DNA):\n",
    "    kmer = []\n",
    "    for i in range(len(DNA)-k+1):\n",
    "        kmer.append(DNA[i:i+k])\n",
    "    kmer.sort()\n",
    "    return kmer\n",
    "\n",
    "def DeBruijn(k, DNA):\n",
    "    composition = Composition(k,DNA)\n",
    "    prefix = []\n",
    "    suffix = []\n",
    "    for kmer in composition:\n",
    "        prefix.append(kmer[0:len(kmer)-1])\n",
    "        suffix.append(kmer[1:len(kmer)])\n",
    "    uniqueprefix = []\n",
    "    uniquesuffix = []\n",
    "    for pre in prefix:\n",
    "        if pre not in uniqueprefix:\n",
    "            uniqueprefix.append(pre)\n",
    "    for suf in suffix:\n",
    "        if suf not in uniquesuffix:\n",
    "            uniquesuffix.append(suf)\n",
    "    debruijn = {}\n",
    "    for node in uniqueprefix:\n",
    "        print node + '->',\n",
    "        count = 0\n",
    "        for connectednode in uniquesuffix:\n",
    "            if node[1:len(node)] == connectednode[0:len(node)-1]:\n",
    "                print connectednode,\n",
    "        print \" \"\n",
    "\n",
    "k = 4\n",
    "DNA = \"AAGATTCTCTAC\"\n",
    "DeBruijn(k, DNA)"
   ]
  },
  {
   "cell_type": "markdown",
   "metadata": {
    "deletable": true,
    "editable": true
   },
   "source": [
    "BA3E: Construct the De Bruijn Graph of a Collection of k-mers"
   ]
  },
  {
   "cell_type": "code",
   "execution_count": 45,
   "metadata": {
    "collapsed": false,
    "deletable": true,
    "editable": true
   },
   "outputs": [
    {
     "name": "stdout",
     "output_type": "stream",
     "text": [
      "AGG-> GGG GGA  \n",
      "CAG-> AGG  \n",
      "GAG-> AGG  \n",
      "GGA-> GAG  \n",
      "GGG-> GGG GGA  \n"
     ]
    }
   ],
   "source": [
    "#হাল্কা কাপঝাঁপ আছে। পরে ঠিক করবো।\n",
    "def DeBruijn(composition):\n",
    "    composition.sort()\n",
    "    prefix = []\n",
    "    suffix = []\n",
    "    for kmer in composition:\n",
    "        prefix.append(kmer[0:len(kmer)-1])\n",
    "        suffix.append(kmer[1:len(kmer)])\n",
    "    uniqueprefix = []\n",
    "    uniquesuffix = []\n",
    "    for pre in prefix:\n",
    "        if pre not in uniqueprefix:\n",
    "            uniqueprefix.append(pre)\n",
    "    for suf in suffix:\n",
    "        if suf not in uniquesuffix:\n",
    "            uniquesuffix.append(suf)\n",
    "    debruijn = {}\n",
    "    for node in uniqueprefix:\n",
    "        print node + '->',\n",
    "        count = 0\n",
    "        for connectednode in uniquesuffix:\n",
    "            if node[1:len(node)] == connectednode[0:len(node)-1]:\n",
    "                print connectednode,\n",
    "        print \" \"\n",
    "\n",
    "composition = [\"GAGG\",\"CAGG\",\"GGGG\",\"GGGA\",\"CAGG\",\"AGGG\",\"GGAG\"]\n",
    "DeBruijn(composition)"
   ]
  },
  {
   "cell_type": "markdown",
   "metadata": {
    "deletable": true,
    "editable": true
   },
   "source": [
    "BA3F: Find an Eulerian Cycle in a Graph"
   ]
  },
  {
   "cell_type": "code",
   "execution_count": null,
   "metadata": {
    "collapsed": true,
    "deletable": true,
    "editable": true
   },
   "outputs": [],
   "source": []
  },
  {
   "cell_type": "markdown",
   "metadata": {
    "deletable": true,
    "editable": true
   },
   "source": [
    "BA3G: Find an Eulerian Path in a Graph"
   ]
  },
  {
   "cell_type": "code",
   "execution_count": null,
   "metadata": {
    "collapsed": true,
    "deletable": true,
    "editable": true
   },
   "outputs": [],
   "source": []
  },
  {
   "cell_type": "markdown",
   "metadata": {
    "deletable": true,
    "editable": true
   },
   "source": [
    "BA3H: Reconstruct a String from its k-mer Composition"
   ]
  },
  {
   "cell_type": "code",
   "execution_count": null,
   "metadata": {
    "collapsed": true,
    "deletable": true,
    "editable": true
   },
   "outputs": [],
   "source": []
  },
  {
   "cell_type": "markdown",
   "metadata": {
    "deletable": true,
    "editable": true
   },
   "source": [
    "BA3I: Find a k-Universal Circular String"
   ]
  },
  {
   "cell_type": "code",
   "execution_count": 1,
   "metadata": {
    "collapsed": false,
    "deletable": true,
    "editable": true
   },
   "outputs": [
    {
     "name": "stdout",
     "output_type": "stream",
     "text": [
      "1110000100110101"
     ]
    }
   ],
   "source": [
    "from itertools import product\n",
    "from collections import defaultdict\n",
    "import sys\n",
    "import math\n",
    "kmerlen = 4\n",
    "init_edges = product(\"01\",repeat=kmerlen)\n",
    "dnas = []\n",
    "for edge in init_edges:\n",
    "    sum_ch = \"\"\n",
    "    for ch in edge:\n",
    "        sum_ch+=str(ch)\n",
    "    dnas.append(sum_ch)\n",
    "edges = []\n",
    "flagedges = defaultdict(list)\n",
    "for dna1 in dnas:\n",
    "    edge = str(dna1[:len(dna1)-1])\n",
    "    edge += \"-\"\n",
    "    edge += str(dna1[1:])\n",
    "    edges.append(edge)\n",
    "for edge in edges:\n",
    "    flagedges[edge] = 0\n",
    "flagedges = defaultdict(list)\n",
    "for edge in edges:\n",
    "    flagedges[edge]=0\n",
    "def find_cycle(edge):\n",
    "    start_now = edge.split(\"-\")\n",
    "    start = start_now[0]\n",
    "    now = start_now[1]\n",
    "    flagedges[edge] = 1\n",
    "    cycle = \"\"\n",
    "    cycle += str(start)\n",
    "    cycle += str(now[len(now)-1])\n",
    "    while start!=now:\n",
    "        for eg in edges:\n",
    "            now_check_list = eg.split(\"-\")\n",
    "            now_check = now_check_list[0]\n",
    "            if now_check==now and flagedges[eg] == 0:\n",
    "                flagedges[eg] = 1\n",
    "                now = now_check_list[1]\n",
    "                cycle += str(now[len(now)-1])\n",
    "    return cycle\n",
    "flag = True\n",
    "while (flag):\n",
    "    for edge in edges:\n",
    "        count = 0\n",
    "        if flagedges[edge]==0:\n",
    "            finalcycle = \"\"\n",
    "            finalcycle = find_cycle(edge)\n",
    "        for ed in edges:\n",
    "            if flagedges[ed]==1:\n",
    "                count+=1\n",
    "        if count == len(edges):\n",
    "            flag = False\n",
    "            for i in range(int(math.pow(2,kmerlen))):\n",
    "                sys.stdout.write(\"%c\"%(finalcycle[i]))\n",
    "            break\n",
    "        for edge in edges:\n",
    "            flagedges[edge]=0"
   ]
  },
  {
   "cell_type": "markdown",
   "metadata": {
    "deletable": true,
    "editable": true
   },
   "source": [
    "BA3J: Reconstruct a String from its Paired Composition"
   ]
  },
  {
   "cell_type": "code",
   "execution_count": 2,
   "metadata": {
    "collapsed": false,
    "deletable": true,
    "editable": true
   },
   "outputs": [
    {
     "name": "stdout",
     "output_type": "stream",
     "text": [
      "GTGGTCGTGAGATGTTGA\n"
     ]
    }
   ],
   "source": [
    "from itertools import product\n",
    "from collections import defaultdict\n",
    "import sys\n",
    "import math\n",
    "dnas = [\"GAGA|TTGA\",\"TCGT|GATG\",\"CGTG|ATGT\",\"TGGT|TGAG\",\"GTGA|TGTT\",\"GTGG|GTGA\",\"TGAG|GTTG\",\"GGTC|GAGA\",\"GTCG|AGAT\"]\n",
    "kmerlen = 4\n",
    "distance = 2\n",
    "kmer_dis = kmerlen+distance\n",
    "edges = []\n",
    "down_add = \"\"\n",
    "flagedges = defaultdict(list)\n",
    "for dna in dnas:\n",
    "    init_start_end = dna.split(\"|\")\n",
    "    init_start = init_start_end[0]\n",
    "    init_end = init_start_end[1]\n",
    "    edge = init_start[:len(init_start)-1]\n",
    "    edge += \"-\"\n",
    "    edge += init_end[:len(init_end)-1]\n",
    "    edge += \"-\"\n",
    "    edge += init_start[1:]\n",
    "    edge += \"-\"\n",
    "    edge += init_end[1:]\n",
    "    edges.append(edge)\n",
    "for edge in edges:\n",
    "    flagedges[edge] = 0\n",
    "def find_cycle(edge):\n",
    "    down_add = \"\"\n",
    "    start_now = edge.split(\"-\")\n",
    "    start = start_now[0]\n",
    "    start += start_now[1]\n",
    "    now = start_now[2]\n",
    "    now += start_now[3]\n",
    "    flagedges[edge] = 1\n",
    "    cycle = \"\"\n",
    "    cycle += str(start_now[0])\n",
    "    last_add = start_now[2]\n",
    "    cycle += str(last_add[len(last_add)-1])\n",
    "    down_add_temp = start_now[3]\n",
    "    down_add += str(down_add_temp[len(down_add_temp)-1])\n",
    "    while (True):\n",
    "        flag3 = False\n",
    "        for eg in edges:\n",
    "            start_now2 = eg.split(\"-\")\n",
    "            check_now = start_now2[0]\n",
    "            check_now += start_now2[1]\n",
    "            if check_now==now and flagedges[eg] == 0:\n",
    "                flagedges[eg] = 1\n",
    "                now = start_now2[2]\n",
    "                now += start_now2[3]\n",
    "                last_add2 = start_now2[2]\n",
    "                cycle += str(last_add2[len(last_add2)-1])\n",
    "                down_add_temp2 = start_now2[3]\n",
    "                down_add += str(down_add_temp2[len(down_add_temp2)-1])\n",
    "                flag3 = True\n",
    "                break\n",
    "        if flag3 == False:\n",
    "            break\n",
    "    if len(down_add)-kmer_dis>=0:\n",
    "        for i in range(len(down_add)-kmer_dis,len(down_add)):\n",
    "            cycle += str(down_add[i])\n",
    "    return cycle\n",
    "flag = True\n",
    "while (flag):\n",
    "    for edge in edges:\n",
    "        count = 0\n",
    "        if flagedges[edge]==0:\n",
    "            finalcycle = \"\"\n",
    "            finalcycle = find_cycle(edge)\n",
    "        for edge1 in edges:\n",
    "            if flagedges[edge1]==1:\n",
    "                count+=1\n",
    "        if count == len(edges):\n",
    "            flag = False\n",
    "            print(finalcycle)\n",
    "            break\n",
    "        for edge in edges:\n",
    "            flagedges[edge]=0"
   ]
  },
  {
   "cell_type": "markdown",
   "metadata": {
    "deletable": true,
    "editable": true
   },
   "source": [
    "BA3K: Generate Contigs from a Collection of Reads"
   ]
  },
  {
   "cell_type": "code",
   "execution_count": 7,
   "metadata": {
    "collapsed": false,
    "deletable": true,
    "editable": true
   },
   "outputs": [
    {
     "name": "stdout",
     "output_type": "stream",
     "text": [
      "AGA CAT ATG ATG GAT TGT TGGA\n"
     ]
    }
   ],
   "source": [
    "def overlap_n(a, b, n):\n",
    "    return a[-n:] == b[:n]\n",
    "\n",
    "def path_degrees(graph):\n",
    "    indegree = {}\n",
    "    outdegree = {}\n",
    "    for source in graph:\n",
    "        if source not in indegree:\n",
    "            indegree[source] = 0\n",
    "        outdegree[source] = len(graph[source])\n",
    "        for sink in graph[source]:\n",
    "            if sink in indegree:\n",
    "                indegree[sink] += 1\n",
    "            else:\n",
    "                indegree[sink] = 1\n",
    "            if sink not in outdegree:\n",
    "                outdegree[sink] = 0\n",
    "    return indegree, outdegree\n",
    "\n",
    "def find_contigs(graph, node, indegree, outdegree):\n",
    "    contigs = []\n",
    "    for next in graph[node]:\n",
    "        new_path = [node, next]\n",
    "        ins, outs = indegree[next], outdegree[next]\n",
    "        while ins == 1 and outs == 1:\n",
    "            node = next\n",
    "            next = graph[node][0]\n",
    "            new_path.append(next)\n",
    "            ins, outs = indegree[next], outdegree[next]\n",
    "        contigs.append(new_path)\n",
    "    return contigs\n",
    "\n",
    "def debruijn_graph_with_duplicates(sequences):\n",
    "    graph = {}\n",
    "    for sequence in sequences:\n",
    "        source, sink = sequence[:-1], sequence[1:]\n",
    "        if source in graph:\n",
    "            graph[source].append(sink)\n",
    "        else:\n",
    "            graph[source] = [sink]\n",
    "    return graph\n",
    "\n",
    "def debruijn_to_contigs(graph):\n",
    "    outpaths = []\n",
    "    indegree, outdegree = path_degrees(graph)\n",
    "    for node in outdegree:\n",
    "        ins, outs = indegree[node], outdegree[node]\n",
    "        if outs > 0 and not (outs == 1 and ins == 1):\n",
    "            outpaths.extend(find_contigs(graph, node, indegree, outdegree))\n",
    "    return outpaths\n",
    "\n",
    "def assemble_path(path):\n",
    "    sequence = path[0]\n",
    "    for kmer in path[1:]:\n",
    "        if overlap_n(sequence, kmer, len(kmer)-1):\n",
    "            sequence += kmer[-1]\n",
    "        else:\n",
    "            raise Exception('kmer {} does not extend existing sequence {}'.format(kmer, sequence))\n",
    "    return sequence\n",
    "\n",
    "reads = [\"ATG\",\"ATG\",\"TGT\",\"TGG\",\"CAT\",\"GGA\",\"GAT\",\"AGA\"]\n",
    "paths = debruijn_to_contigs(debruijn_graph_with_duplicates(reads))\n",
    "contigs = map(assemble_path, paths)\n",
    "print ' '.join(contigs)"
   ]
  }
 ],
 "metadata": {
  "kernelspec": {
   "display_name": "Python 2",
   "language": "python",
   "name": "python2"
  },
  "language_info": {
   "codemirror_mode": {
    "name": "ipython",
    "version": 2
   },
   "file_extension": ".py",
   "mimetype": "text/x-python",
   "name": "python",
   "nbconvert_exporter": "python",
   "pygments_lexer": "ipython2",
   "version": "2.7.12"
  }
 },
 "nbformat": 4,
 "nbformat_minor": 2
}
