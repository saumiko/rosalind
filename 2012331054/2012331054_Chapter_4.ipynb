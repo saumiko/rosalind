{
 "cells": [
  {
   "cell_type": "markdown",
   "metadata": {
    "deletable": true,
    "editable": true
   },
   "source": [
    "# Chapter 4"
   ]
  },
  {
   "cell_type": "markdown",
   "metadata": {
    "deletable": true,
    "editable": true
   },
   "source": [
    "BA4A: Translate an RNA String into an Amino Acid String"
   ]
  },
  {
   "cell_type": "code",
   "execution_count": 4,
   "metadata": {
    "collapsed": false,
    "deletable": true,
    "editable": true
   },
   "outputs": [
    {
     "name": "stdout",
     "output_type": "stream",
     "text": [
      "MAMAPRTEINSTRING*\n"
     ]
    }
   ],
   "source": [
    "from Bio.Seq import Seq\n",
    "from Bio.Alphabet import generic_rna\n",
    "\n",
    "def translate(RNA):\n",
    "    messenger_rna = Seq(RNA, generic_rna)\n",
    "    print messenger_rna.translate()\n",
    "    \n",
    "translate(\"AUGGCCAUGGCGCCCAGAACUGAGAUCAAUAGUACCCGUAUUAACGGGUGA\")"
   ]
  },
  {
   "cell_type": "markdown",
   "metadata": {
    "deletable": true,
    "editable": true
   },
   "source": [
    "BA4B: Find Substrings of a Genome Encoding a Given Amino Acid String"
   ]
  },
  {
   "cell_type": "code",
   "execution_count": 1,
   "metadata": {
    "collapsed": false,
    "deletable": true,
    "editable": true
   },
   "outputs": [
    {
     "name": "stdout",
     "output_type": "stream",
     "text": [
      "ATGGCC\n",
      "GGCCAT\n"
     ]
    }
   ],
   "source": [
    "import re\n",
    "from Bio.Seq import Seq\n",
    "from Bio.Alphabet import generic_dna\n",
    "\n",
    "def translate(dna):\n",
    "    coding_dna = Seq(dna, generic_dna)\n",
    "    return coding_dna.translate()\n",
    "\n",
    "def match(aminoacid, inaminoacid):\n",
    "    occurances = [m.start() for m in re.finditer(inaminoacid, aminoacid)]\n",
    "    return occurances\n",
    "\n",
    "def revseq(aminoacid, DNA, occurances):\n",
    "    seqlen = len(aminoacid) * 3\n",
    "    for i in occurances:\n",
    "        print DNA[i:i+seqlen]\n",
    "\n",
    "dna = \"ATGGCCATGGCCCCCAGAACTGAGATCAATAGTACCCGTATTAACGGGTGA\"\n",
    "inaminoacid = \"MA\"\n",
    "aminoacid = translate(dna)\n",
    "revseq(inaminoacid, dna, match(str(aminoacid), inaminoacid))"
   ]
  },
  {
   "cell_type": "markdown",
   "metadata": {
    "deletable": true,
    "editable": true
   },
   "source": [
    "BA4C: Generate the Theoretical Spectrum of a Cyclic Peptide"
   ]
  },
  {
   "cell_type": "code",
   "execution_count": 3,
   "metadata": {
    "collapsed": false,
    "deletable": true,
    "editable": true
   },
   "outputs": [
    {
     "name": "stdout",
     "output_type": "stream",
     "text": [
      "0 113 114 128 129 227 242 242 257 355 356 370 371 484\n"
     ]
    }
   ],
   "source": [
    "import numpy as np\n",
    "from itertools import cycle,islice\n",
    "values={'G':57,'A':71,'S':87,'P':97,'V':99,'T':101,'C':103,'I':113,'L':113,'N':114,'D':115,'K':128,'Q':128,'E':129,'M':131,'H':137,'F':147,'R':156,'Y':163,'W':186}\n",
    "\n",
    "def getTotalMass(peptidestr):\n",
    "    total = 0\n",
    "    for i in peptidestr:\n",
    "        total+=values[i]\n",
    "    return total\n",
    "\n",
    "def getTheoreticalSpectrum(peptide):\n",
    "    peptides=[]\n",
    "    values=[]\n",
    "    for i in range (1,len(peptide)):\n",
    "        for j in range(len(peptide)):\n",
    "            c = cycle(peptide)\n",
    "            val=list( islice(c,j,j+i))\n",
    "            peptides.append(''.join(val))\n",
    "            values.append(getTotalMass(val))\n",
    "    peptides.append(peptide)\n",
    "    values.append(getTotalMass(peptide))\n",
    "    values.append(0)\n",
    "    values.sort()\n",
    "    for i in range(len(values)):\n",
    "        if i == 0:\n",
    "            print str(0),\n",
    "            continue;\n",
    "        print str(values[i]),\n",
    "\n",
    "peptidecode = 'LEQN'\n",
    "getTheoreticalSpectrum(peptidecode)"
   ]
  },
  {
   "cell_type": "markdown",
   "metadata": {
    "deletable": true,
    "editable": true
   },
   "source": [
    "BA4D: Compute the Number of Peptides of Given Total Mass"
   ]
  },
  {
   "cell_type": "code",
   "execution_count": 5,
   "metadata": {
    "collapsed": false,
    "deletable": true,
    "editable": true
   },
   "outputs": [
    {
     "name": "stdout",
     "output_type": "stream",
     "text": [
      "14712706211\n"
     ]
    }
   ],
   "source": [
    "values={'G':57,'A':71,'S':87,'P':97,'V':99,'T':101,'C':103,'I':113,'L':113,'N':114,'D':115,'K':128,'Q':128,'E':129,'M':131,'H':137,'F':147,'R':156,'Y':163,'W':186}\n",
    "val = set(values.values())\n",
    "\n",
    "def peptideCounter(M):\n",
    "    counts = {0:1}\n",
    "    for i in range(M-min(val)+1):\n",
    "        j = i+min(val)\n",
    "        for v in val:\n",
    "            if j-v in counts:\n",
    "                counts[j] = counts.get(j,0)+counts[j-v]\n",
    "    print counts[M]\n",
    "peptideCounter(1024)"
   ]
  },
  {
   "cell_type": "markdown",
   "metadata": {
    "deletable": true,
    "editable": true
   },
   "source": [
    "BA4E: Find a Cyclic Peptide with Theoretical Spectrum Matching an Ideal Spectrum"
   ]
  },
  {
   "cell_type": "code",
   "execution_count": null,
   "metadata": {
    "collapsed": true,
    "deletable": true,
    "editable": true
   },
   "outputs": [],
   "source": []
  },
  {
   "cell_type": "markdown",
   "metadata": {
    "deletable": true,
    "editable": true
   },
   "source": [
    "BA4F: Compute the Score of a Cyclic Peptide Against a Spectrum"
   ]
  },
  {
   "cell_type": "code",
   "execution_count": 14,
   "metadata": {
    "collapsed": false,
    "deletable": true,
    "editable": true
   },
   "outputs": [
    {
     "name": "stdout",
     "output_type": "stream",
     "text": [
      "11\n"
     ]
    }
   ],
   "source": [
    "import numpy as np\n",
    "from itertools import cycle,islice\n",
    "values={'G':57,'A':71,'S':87,'P':97,'V':99,'T':101,'C':103,'I':113,'L':113,'N':114,'D':115,'K':128,'Q':128,'E':129,'M':131,'H':137,'F':147,'R':156,'Y':163,'W':186}\n",
    "\n",
    "def getTotalMass(peptidestr):\n",
    "    total = 0\n",
    "    for i in peptidestr:\n",
    "        total+=values[i]\n",
    "    return total\n",
    "\n",
    "def getTheoreticalSpectrum(peptide, spectrum):\n",
    "    peptides=[]\n",
    "    values=[]\n",
    "    for i in range (1,len(peptide)):\n",
    "        for j in range(len(peptide)):\n",
    "            c = cycle(peptide)\n",
    "            val=list( islice(c,j,j+i))\n",
    "            peptides.append(''.join(val))\n",
    "            values.append(getTotalMass(val))\n",
    "    peptides.append(peptide)\n",
    "    values.append(getTotalMass(peptide))\n",
    "    values.append(0)\n",
    "    values.sort()\n",
    "    score = 0\n",
    "    if len(values) > len(spectrum):\n",
    "        for i in values:\n",
    "            if i in spectrum:\n",
    "                score = score + 1\n",
    "    else:\n",
    "        for i in spectrum:\n",
    "            if i in values:\n",
    "                score = score + 1\n",
    "    print score\n",
    "peptidecode = 'LEQN'\n",
    "spectrum = [0, 99, 113, 114, 128, 227, 257, 299, 355, 356, 370, 371, 484]\n",
    "getTheoreticalSpectrum(peptidecode, spectrum)"
   ]
  },
  {
   "cell_type": "markdown",
   "metadata": {
    "deletable": true,
    "editable": true
   },
   "source": [
    "BA4G: Implement LeaderboardCyclopeptideSequencing"
   ]
  },
  {
   "cell_type": "code",
   "execution_count": null,
   "metadata": {
    "collapsed": false,
    "deletable": true,
    "editable": true
   },
   "outputs": [
    {
     "name": "stdout",
     "output_type": "stream",
     "text": [
      "21\n",
      "441\n",
      "9261\n",
      "190512\n",
      "2829729\n"
     ]
    }
   ],
   "source": [
    "import sys\n",
    "from collections import defaultdict\n",
    "peptide_to_mass = {'':-1, 'L':113, 'E':129, 'Q':128, 'N':114, 'G':57,'A':71,'S':87,'P':97,'V':99,'T':101,'C':103,'I':113,'D':115,'K':128,'M':131,'H':137,'F':147,'R':156,'Y':163,'W':186}\n",
    "n = 10\n",
    "spectrum = [0, 71, 113, 129, 147, 200, 218, 260, 313, 331, 347, 389, 460]\n",
    "leaderboard = []\n",
    "leaderboard.append(\"\")\n",
    "leaderscore = 0\n",
    "leaderpeptide = \"\"\n",
    "\n",
    "def cut(leaderboard):\n",
    "    scores = []\n",
    "    for lead in leaderboard:\n",
    "        scores.append(getscore(lead))\n",
    "    scores.sort()\n",
    "    nthhighestscore = -1\n",
    "    if len(scores)==0:\n",
    "        nthhighestscore = 0\n",
    "    elif len(scores)>=n:\n",
    "        nthhighestscore = scores[len(scores)-n]\n",
    "    else:\n",
    "        nthhighestscore = scores[0]\n",
    "    out = []\n",
    "    for lead in leaderboard:\n",
    "        if getscore(lead)>=nthhighestscore:\n",
    "            out.append(lead)\n",
    "    return out\n",
    "\n",
    "def expandpeps(leaderboard):\n",
    "    out = []\n",
    "    for i in range(len(leaderboard)):\n",
    "        curr = leaderboard[i]\n",
    "        for key,value in peptide_to_mass.iteritems():\n",
    "            out.append(curr+key)\n",
    "    return out\n",
    "\n",
    "def getmass(peptide):\n",
    "    totalmass = 0\n",
    "    for pep in peptide:\n",
    "        totalmass += peptide_to_mass[pep]\n",
    "    return totalmass\n",
    "\n",
    "def getscore(peptide):\n",
    "    peptidespectrum = defaultdict(list)\n",
    "    peptidespectrum = GenTheoriticalSpec(peptide)\n",
    "    total_score = 0\n",
    "    for key,value in peptidespectrum.iteritems():\n",
    "        has = False\n",
    "        for val in spectrum:\n",
    "            if val==value:\n",
    "                has = True\n",
    "                break\n",
    "        if has == True:\n",
    "            total_score += 1\n",
    "    return total_score\n",
    "\n",
    "def GenTheoriticalSpec(string):\n",
    "    dic = {'':-1, 'L':113, 'E':129, 'Q':128, 'N':114, 'G':57,'A':71,'S':87,'P':97,'V':99,'T':101,'C':103,'I':113,'D':115,'K':128,'M':131,'H':137,'F':147,'R':156,'Y':163,'W':186}\n",
    "    length = len(string)\n",
    "    alist = defaultdict(list)\n",
    "    for i in range(length):\n",
    "        for j in range(i,length):\n",
    "            subpeptide = \"\"\n",
    "            subpeptide = string[i:j + 1]\n",
    "            if j==length-1 and len(subpeptide)<length:\n",
    "                for k in range(length-len(subpeptide)):\n",
    "                    if len(subpeptide)!=length:\n",
    "                        sm = 0\n",
    "                        for ii in range(len(subpeptide)):\n",
    "                            sm = sm + dic[subpeptide[ii]]\n",
    "                        alist[subpeptide].append(sm)\n",
    "                    subpeptide+=string[k]\n",
    "            if len(subpeptide)!=length:\n",
    "                sm = 0\n",
    "                for ii in range(len(subpeptide)):\n",
    "                    sm = sm + dic[subpeptide[ii]]\n",
    "                alist[subpeptide].append(sm)\n",
    "    sm= 0\n",
    "    for ii in range(len(string)):\n",
    "        sm = sm + dic[string[ii]]\n",
    "    alist[string].append(sm)\n",
    "    alist['def'].append(0)\n",
    "    return alist\n",
    "while len(leaderboard)!=0:\n",
    "    leaderboard = expandpeps(leaderboard)\n",
    "    print(len(leaderboard))\n",
    "    try:\n",
    "        for i in range(0,len(leaderboard)):\n",
    "            peptide = leaderboard[i]\n",
    "            currmass = getmass(peptide)\n",
    "            if currmass == spectrum[len(spectrum)-1]:\n",
    "                currscore = getscore(peptide)\n",
    "                if currscore > leaderscore:\n",
    "                    leaderpeptide = peptide\n",
    "                    leaderscore = currscore\n",
    "            elif currmass > spectrum[len(spectrum)-1]:\n",
    "                leaderboard.remove(peptide)\n",
    "    except:\n",
    "        asda = \"as\"\n",
    "    leaderboard = cut(leaderboard)"
   ]
  },
  {
   "cell_type": "markdown",
   "metadata": {
    "deletable": true,
    "editable": true
   },
   "source": [
    "BA4H: Generate the Convolution of a Spectrum"
   ]
  },
  {
   "cell_type": "code",
   "execution_count": 2,
   "metadata": {
    "collapsed": false,
    "deletable": true,
    "editable": true
   },
   "outputs": [
    {
     "name": "stdout",
     "output_type": "stream",
     "text": [
      "137 137 186 186 323 49 "
     ]
    }
   ],
   "source": [
    "import sys\n",
    "import operator\n",
    "from collections import defaultdict\n",
    "\n",
    "def convolute(spectrum):\n",
    "    dic = {}\n",
    "    for i in range(len(spectrum)):\n",
    "        for j in range(len(spectrum)):\n",
    "            if (spectrum[i]-spectrum[j]>=0):\n",
    "                dic[spectrum[i]-spectrum[j]] = 0\n",
    "    for i in range(len(spectrum)):\n",
    "        for j in range(len(spectrum)):\n",
    "            if (spectrum[i]-spectrum[j]>=0):\n",
    "                dic[spectrum[i]-spectrum[j]] += 1\n",
    "    sorted(dic.items())\n",
    "    for key,value in dic.iteritems():\n",
    "        if key > 0:\n",
    "            for i in range(value):\n",
    "                sys.stdout.write(\"%d \"%(key))\n",
    "\n",
    "spectrum = [0, 137, 186, 323]\n",
    "convolute(spectrum)"
   ]
  },
  {
   "cell_type": "markdown",
   "metadata": {
    "collapsed": true,
    "deletable": true,
    "editable": true
   },
   "source": [
    "BA4I: Implement ConvolutionCyclopeptideSequencing"
   ]
  },
  {
   "cell_type": "code",
   "execution_count": null,
   "metadata": {
    "collapsed": true,
    "deletable": true,
    "editable": true
   },
   "outputs": [],
   "source": []
  },
  {
   "cell_type": "markdown",
   "metadata": {
    "deletable": true,
    "editable": true
   },
   "source": [
    "BA4J: Generate the Theoretical Spectrum of a Linear Peptide"
   ]
  },
  {
   "cell_type": "code",
   "execution_count": 4,
   "metadata": {
    "collapsed": false,
    "deletable": true,
    "editable": true
   },
   "outputs": [
    {
     "name": "stdout",
     "output_type": "stream",
     "text": [
      "[0, 113, 114, 128, 129, 242, 242, 257, 370, 371, 484]\n"
     ]
    }
   ],
   "source": [
    "def TheoreticalSpectrum(peptide, pep_to_mass):\n",
    "    spectrum = []\n",
    "    for i in range(1,len(peptide)+1):\n",
    "        for j in range(len(peptide)-i+1):\n",
    "            kmer = peptide[j:j+i]\n",
    "            mass_sum = 0\n",
    "            for c in kmer:\n",
    "                mass_sum += pep_to_mass[c]\n",
    "            spectrum.append(mass_sum)\n",
    "    spectrum.append(0)\n",
    "    spectrum.sort()\n",
    "    print spectrum\n",
    "    \n",
    "peptide = \"NQEL\"\n",
    "pep_to_mass = {'L':113, 'E':129, 'Q':128, 'N':114, 'G':57,'A':71,'S':87,'P':97,'V':99,'T':101,'C':103,'I':113,'D':115,'K':128,'M':131,'H':137,'F':147,'R':156,'Y':163,'W':186}\n",
    "TheoreticalSpectrum(peptide, pep_to_mass)"
   ]
  },
  {
   "cell_type": "markdown",
   "metadata": {
    "deletable": true,
    "editable": true
   },
   "source": [
    "BA4K: Compute the Score of a Linear Peptide"
   ]
  },
  {
   "cell_type": "code",
   "execution_count": 6,
   "metadata": {
    "collapsed": false,
    "deletable": true,
    "editable": true
   },
   "outputs": [
    {
     "name": "stdout",
     "output_type": "stream",
     "text": [
      "8\n"
     ]
    }
   ],
   "source": [
    "def TheoreticalSpectrum(peptide, pep_to_mass, values):\n",
    "    spectrum = []\n",
    "    for i in range(1,len(peptide)+1):\n",
    "        for j in range(len(peptide)-i+1):\n",
    "            kmer = peptide[j:j+i]\n",
    "            mass_sum = 0\n",
    "            for c in kmer:\n",
    "                mass_sum += pep_to_mass[c]\n",
    "            spectrum.append(mass_sum)\n",
    "    spectrum.append(0)\n",
    "    spectrum.sort()\n",
    "    score = 0\n",
    "    if len(values) > len(spectrum):\n",
    "        for i in values:\n",
    "            if i in spectrum:\n",
    "                score = score + 1\n",
    "    else:\n",
    "        for i in spectrum:\n",
    "            if i in values:\n",
    "                score = score + 1\n",
    "    print score\n",
    "\n",
    "values = [0, 99, 113, 114, 128, 227, 257, 299, 355, 356, 370, 371, 484]\n",
    "peptide = \"NQEL\"\n",
    "pep_to_mass = {'L':113, 'E':129, 'Q':128, 'N':114, 'G':57,'A':71,'S':87,'P':97,'V':99,'T':101,'C':103,'I':113,'D':115,'K':128,'M':131,'H':137,'F':147,'R':156,'Y':163,'W':186}\n",
    "TheoreticalSpectrum(peptide, pep_to_mass, values)"
   ]
  },
  {
   "cell_type": "markdown",
   "metadata": {
    "deletable": true,
    "editable": true
   },
   "source": [
    "BA4L: Trim a Peptide Leaderboard "
   ]
  },
  {
   "cell_type": "code",
   "execution_count": 8,
   "metadata": {
    "collapsed": false,
    "deletable": true,
    "editable": true
   },
   "outputs": [
    {
     "name": "stdout",
     "output_type": "stream",
     "text": [
      "['ALST', 'LAST']\n"
     ]
    }
   ],
   "source": [
    "peptides = [\"LAST\", \"ALST\", \"TLLT\", \"TQAS\"]\n",
    "spectrum2 = [0, 71, 87, 101, 113, 158, 184, 188, 259, 271, 372]\n",
    "keep = 2\n",
    "pep_to_mass = {'L':113, 'E':129, 'Q':128, 'N':114, 'G':57,'A':71,'S':87,'P':97,'V':99,'T':101,'C':103,'I':113,'D':115,'K':128,'M':131,'H':137,'F':147,'R':156,'Y':163,'W':186}\n",
    "\n",
    "def findscorepeptide(peptide,spectrum2):\n",
    "    spectrum = []\n",
    "    for i in range(1,len(peptide)+1):\n",
    "        for j in range(len(peptide)-i+1):\n",
    "            kmer = peptide[j:j+i]\n",
    "            mass_sum = 0\n",
    "            for c in kmer:\n",
    "                mass_sum += pep_to_mass[c]\n",
    "            if mass_sum not in spectrum:\n",
    "                spectrum.append(mass_sum)\n",
    "    spectrum.append(0)\n",
    "    count = 0\n",
    "    for mass1 in spectrum:\n",
    "        for mass2 in spectrum2:\n",
    "            if mass1==mass2:\n",
    "                count+=1\n",
    "    return count\n",
    "\n",
    "peptide_score = {}\n",
    "for pep in peptides:\n",
    "    peptide_score[pep] = 0\n",
    "for pep in peptides:\n",
    "    peptide_score[pep] = findscorepeptide(pep,spectrum2)\n",
    "sorted_values = sorted(peptide_score.values())\n",
    "count = 0\n",
    "target = 0\n",
    "for i in range(len(sorted_values)-1,-1,-1):\n",
    "    count+=1\n",
    "    if count==keep:\n",
    "        target = i\n",
    "final_ans = []\n",
    "for key,value in peptide_score.iteritems():\n",
    "    if value>=sorted_values[target]:\n",
    "        final_ans.append(key)\n",
    "print final_ans"
   ]
  },
  {
   "cell_type": "markdown",
   "metadata": {
    "deletable": true,
    "editable": true
   },
   "source": [
    "BA4M: Solve the Turnpike Problem"
   ]
  },
  {
   "cell_type": "code",
   "execution_count": null,
   "metadata": {
    "collapsed": true,
    "deletable": true,
    "editable": true
   },
   "outputs": [],
   "source": []
  }
 ],
 "metadata": {
  "kernelspec": {
   "display_name": "Python 2",
   "language": "python",
   "name": "python2"
  },
  "language_info": {
   "codemirror_mode": {
    "name": "ipython",
    "version": 2
   },
   "file_extension": ".py",
   "mimetype": "text/x-python",
   "name": "python",
   "nbconvert_exporter": "python",
   "pygments_lexer": "ipython2",
   "version": "2.7.12"
  }
 },
 "nbformat": 4,
 "nbformat_minor": 2
}
